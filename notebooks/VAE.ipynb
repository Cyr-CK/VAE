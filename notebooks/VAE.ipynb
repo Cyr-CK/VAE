{
 "cells": [
  {
   "cell_type": "code",
   "execution_count": 1,
   "id": "7b764d80",
   "metadata": {},
   "outputs": [],
   "source": [
    "import os \n",
    " \n",
    "os.chdir(\"..\")"
   ]
  },
  {
   "cell_type": "code",
   "execution_count": 2,
   "id": "85099d7f",
   "metadata": {},
   "outputs": [],
   "source": [
    "%load_ext autoreload\n",
    "%autoreload 2"
   ]
  },
  {
   "cell_type": "code",
   "execution_count": 3,
   "id": "6e4b3d1e",
   "metadata": {},
   "outputs": [],
   "source": [
    "# Initialisation de constantes\n",
    "batch_size = 16 # taille de l'échantillon dont les erreurs de prédiction servent à maj les paramètres\n",
    "latent_dim = 32 # trop faible = compression extrême rendant illisible l'image\n",
    "                # trop élevé = reconstruction fidèle mais s'écarte de l'objectif de compression lié à l'usage d'un VAE\n",
    "kl_weight = 0.5 # trop faible = reconstruction impeccable des données mais aucun pouvoir d'échantillonnage\n",
    "                # trop élevé = reconstruction bruitée\n",
    "num_classes = 10 # vérifier le nombre de classes dans les données (par défaut 10)\n",
    "dim_params = 784 # vérifier les dimensions de vos images (H*W)\n",
    "seed = 0xffff"
   ]
  },
  {
   "cell_type": "code",
   "execution_count": 4,
   "id": "546cf61a",
   "metadata": {},
   "outputs": [],
   "source": [
    "# Chargement des packages\n",
    "import jax\n",
    "import flax\n",
    "import optax\n",
    "# import orbax\n",
    "\n",
    "import flax.linen as nn\n",
    "import jax.numpy as jnp\n",
    "from jax.typing import ArrayLike\n",
    "\n",
    "from typing import Tuple, Callable\n",
    "from math import sqrt\n",
    "\n",
    "import matplotlib.pyplot as plt\n",
    "from sklearn.metrics import classification_report\n",
    "\n",
    "key = jax.random.PRNGKey(seed)"
   ]
  },
  {
   "cell_type": "code",
   "execution_count": 5,
   "id": "4e3d7557",
   "metadata": {},
   "outputs": [],
   "source": [
    "# from src.data_modeling.VAE import FeedForward\n",
    "from src.data_modeling.VAE import VAE\n",
    "from src.data_modeling.train import generate_train_step\n",
    "from src.data_processing import prepare_test_set\n",
    "from src.data_processing import get__y_true"
   ]
  },
  {
   "cell_type": "code",
   "execution_count": 6,
   "id": "b8ce2476",
   "metadata": {},
   "outputs": [
    {
     "name": "stderr",
     "output_type": "stream",
     "text": [
      "C:\\ProgramData\\anaconda3\\envs\\keras_jax\\lib\\site-packages\\torchvision\\io\\image.py:13: UserWarning: Failed to load image Python extension: '[WinError 127] La procédure spécifiée est introuvable'If you don't plan on using image functionality from `torchvision.io`, you can ignore this warning. Otherwise, there might be something wrong with your environment. Did you have `libjpeg` or `libpng` installed before building `torchvision` from source?\n",
      "  warn(\n"
     ]
    }
   ],
   "source": [
    "import torchvision.transforms as T # message d'erreur : à ignorer\n",
    "from torchvision.datasets import MNIST\n",
    "# from torchvision.datasets import FashionMNIST\n",
    "from torch.utils.data import DataLoader\n",
    "#from torchvision.transforms import Grayscale\n",
    "#import torch"
   ]
  },
  {
   "cell_type": "code",
   "execution_count": 7,
   "id": "3e8d6537",
   "metadata": {},
   "outputs": [],
   "source": [
    "train_dataset = MNIST('../data', train = True, transform=T.ToTensor(), download=True)\n",
    "train_loader = DataLoader(train_dataset, batch_size=batch_size, shuffle=True, drop_last=True) "
   ]
  },
  {
   "cell_type": "code",
   "execution_count": 8,
   "id": "a037f15f",
   "metadata": {},
   "outputs": [],
   "source": [
    "key, model_key = jax.random.split(key)\n",
    "\n",
    "model = VAE(latent_dim=latent_dim)\n",
    "optimizer = optax.adamw(learning_rate=1e-4)\n",
    "\n",
    "train_step, train, params, opt_state = generate_train_step(model_key, model, optimizer, batch_size=batch_size, num_classes=num_classes, dim_params=dim_params)"
   ]
  },
  {
   "cell_type": "code",
   "execution_count": 9,
   "id": "02c84cd6",
   "metadata": {
    "scrolled": true
   },
   "outputs": [
    {
     "name": "stdout",
     "output_type": "stream",
     "text": [
      "Epoch 0 | étape 500 | loss = 36.55783462524414 ~ mse = 36.24393081665039. kl = 0.31390076875686646\n",
      "Epoch 0 | étape 1000 | loss = 28.37625503540039 ~ mse = 28.00140380859375. kl = 0.3748699128627777\n",
      "Epoch 0 | étape 1500 | loss = 25.30596923828125 ~ mse = 24.7032527923584. kl = 0.6027082800865173\n",
      "Epoch 0 | étape 2000 | loss = 23.696937561035156 ~ mse = 23.053110122680664. kl = 0.6438288688659668\n",
      "Epoch 0 | étape 2500 | loss = 22.61939811706543 ~ mse = 22.02173614501953. kl = 0.5976674556732178\n",
      "Epoch 0 | étape 3000 | loss = 22.150775909423828 ~ mse = 21.581985473632812. kl = 0.5687988996505737\n",
      "Epoch 0 | étape 3500 | loss = 21.764497756958008 ~ mse = 21.179914474487305. kl = 0.5845811367034912\n",
      "Epoch 1 | étape 500 | loss = 21.236845016479492 ~ mse = 20.459196090698242. kl = 0.777642011642456\n",
      "Epoch 1 | étape 1000 | loss = 20.923961639404297 ~ mse = 20.046642303466797. kl = 0.877307653427124\n",
      "Epoch 1 | étape 1500 | loss = 20.78485679626465 ~ mse = 19.859207153320312. kl = 0.9256515502929688\n",
      "Epoch 1 | étape 2000 | loss = 20.777313232421875 ~ mse = 19.76702308654785. kl = 1.0102972984313965\n",
      "Epoch 1 | étape 2500 | loss = 20.509662628173828 ~ mse = 19.408660888671875. kl = 1.100988745689392\n",
      "Epoch 1 | étape 3000 | loss = 20.325361251831055 ~ mse = 19.144472122192383. kl = 1.1808857917785645\n",
      "Epoch 1 | étape 3500 | loss = 20.2073917388916 ~ mse = 18.89872932434082. kl = 1.3086585998535156\n",
      "Epoch 2 | étape 500 | loss = 19.79947853088379 ~ mse = 18.319719314575195. kl = 1.4797685146331787\n",
      "Epoch 2 | étape 1000 | loss = 19.777202606201172 ~ mse = 18.233047485351562. kl = 1.54415762424469\n",
      "Epoch 2 | étape 1500 | loss = 19.49500274658203 ~ mse = 17.903013229370117. kl = 1.5919767618179321\n",
      "Epoch 2 | étape 2000 | loss = 19.32390022277832 ~ mse = 17.66228485107422. kl = 1.6616222858428955\n",
      "Epoch 2 | étape 2500 | loss = 19.2229061126709 ~ mse = 17.51197052001953. kl = 1.710932731628418\n",
      "Epoch 2 | étape 3000 | loss = 19.137598037719727 ~ mse = 17.385271072387695. kl = 1.7523289918899536\n",
      "Epoch 2 | étape 3500 | loss = 19.022214889526367 ~ mse = 17.21645164489746. kl = 1.8057653903961182\n",
      "Epoch 3 | étape 500 | loss = 18.819250106811523 ~ mse = 16.954240798950195. kl = 1.8650074005126953\n",
      "Epoch 3 | étape 1000 | loss = 18.588163375854492 ~ mse = 16.673871994018555. kl = 1.9142946004867554\n",
      "Epoch 3 | étape 1500 | loss = 18.565006256103516 ~ mse = 16.587623596191406. kl = 1.9773873090744019\n",
      "Epoch 3 | étape 2000 | loss = 18.45718002319336 ~ mse = 16.491596221923828. kl = 1.9655935764312744\n",
      "Epoch 3 | étape 2500 | loss = 18.12995719909668 ~ mse = 16.13640022277832. kl = 1.993558406829834\n",
      "Epoch 3 | étape 3000 | loss = 18.3115177154541 ~ mse = 16.239566802978516. kl = 2.071936845779419\n",
      "Epoch 3 | étape 3500 | loss = 18.28779411315918 ~ mse = 16.22320556640625. kl = 2.064596652984619\n",
      "Epoch 4 | étape 500 | loss = 18.176555633544922 ~ mse = 16.03199005126953. kl = 2.1445579528808594\n",
      "Epoch 4 | étape 1000 | loss = 18.09779930114746 ~ mse = 15.957342147827148. kl = 2.140469551086426\n",
      "Epoch 4 | étape 1500 | loss = 18.152788162231445 ~ mse = 15.95071792602539. kl = 2.2020559310913086\n",
      "Epoch 4 | étape 2000 | loss = 17.990814208984375 ~ mse = 15.77489948272705. kl = 2.2159159183502197\n",
      "Epoch 4 | étape 2500 | loss = 17.878070831298828 ~ mse = 15.643482208251953. kl = 2.2345898151397705\n",
      "Epoch 4 | étape 3000 | loss = 17.88910484313965 ~ mse = 15.648042678833008. kl = 2.2410526275634766\n",
      "Epoch 4 | étape 3500 | loss = 17.766067504882812 ~ mse = 15.43488597869873. kl = 2.3311948776245117\n",
      "Epoch 5 | étape 500 | loss = 17.732975006103516 ~ mse = 15.391318321228027. kl = 2.34165358543396\n",
      "Epoch 5 | étape 1000 | loss = 17.840272903442383 ~ mse = 15.455820083618164. kl = 2.3844428062438965\n",
      "Epoch 5 | étape 1500 | loss = 17.62985610961914 ~ mse = 15.212888717651367. kl = 2.4169628620147705\n",
      "Epoch 5 | étape 2000 | loss = 17.558868408203125 ~ mse = 15.133201599121094. kl = 2.425675868988037\n",
      "Epoch 5 | étape 2500 | loss = 17.614931106567383 ~ mse = 15.171595573425293. kl = 2.4433462619781494\n",
      "Epoch 5 | étape 3000 | loss = 17.665782928466797 ~ mse = 15.18041706085205. kl = 2.4853641986846924\n",
      "Epoch 5 | étape 3500 | loss = 17.554445266723633 ~ mse = 15.078011512756348. kl = 2.476442575454712\n",
      "Epoch 6 | étape 500 | loss = 17.53166389465332 ~ mse = 15.013959884643555. kl = 2.5176963806152344\n",
      "Epoch 6 | étape 1000 | loss = 17.436908721923828 ~ mse = 14.909485816955566. kl = 2.52742075920105\n",
      "Epoch 6 | étape 1500 | loss = 17.476160049438477 ~ mse = 14.923452377319336. kl = 2.552706003189087\n",
      "Epoch 6 | étape 2000 | loss = 17.396373748779297 ~ mse = 14.854742050170898. kl = 2.541638135910034\n",
      "Epoch 6 | étape 2500 | loss = 17.32448387145996 ~ mse = 14.772505760192871. kl = 2.5519871711730957\n",
      "Epoch 6 | étape 3000 | loss = 17.332420349121094 ~ mse = 14.761606216430664. kl = 2.5708179473876953\n",
      "Epoch 6 | étape 3500 | loss = 17.49625015258789 ~ mse = 14.911540985107422. kl = 2.5847203731536865\n",
      "Epoch 7 | étape 500 | loss = 17.31317138671875 ~ mse = 14.731410026550293. kl = 2.5817642211914062\n",
      "Epoch 7 | étape 1000 | loss = 17.342308044433594 ~ mse = 14.716946601867676. kl = 2.625356435775757\n",
      "Epoch 7 | étape 1500 | loss = 17.227209091186523 ~ mse = 14.61284351348877. kl = 2.614372491836548\n",
      "Epoch 7 | étape 2000 | loss = 17.283435821533203 ~ mse = 14.695707321166992. kl = 2.587731122970581\n",
      "Epoch 7 | étape 2500 | loss = 17.259607315063477 ~ mse = 14.613119125366211. kl = 2.6464807987213135\n",
      "Epoch 7 | étape 3000 | loss = 17.167505264282227 ~ mse = 14.534380912780762. kl = 2.6331191062927246\n",
      "Epoch 7 | étape 3500 | loss = 17.198564529418945 ~ mse = 14.509284973144531. kl = 2.689277410507202\n",
      "Epoch 8 | étape 500 | loss = 17.163665771484375 ~ mse = 14.51010799407959. kl = 2.653547525405884\n",
      "Epoch 8 | étape 1000 | loss = 17.126924514770508 ~ mse = 14.460203170776367. kl = 2.6667094230651855\n",
      "Epoch 8 | étape 1500 | loss = 17.166709899902344 ~ mse = 14.49220085144043. kl = 2.674527168273926\n",
      "Epoch 8 | étape 2000 | loss = 17.21767234802246 ~ mse = 14.525165557861328. kl = 2.6925013065338135\n",
      "Epoch 8 | étape 2500 | loss = 17.101211547851562 ~ mse = 14.394449234008789. kl = 2.706763744354248\n",
      "Epoch 8 | étape 3000 | loss = 17.153629302978516 ~ mse = 14.444809913635254. kl = 2.708813428878784\n",
      "Epoch 8 | étape 3500 | loss = 17.007291793823242 ~ mse = 14.28067684173584. kl = 2.7266147136688232\n",
      "Epoch 9 | étape 500 | loss = 17.01217269897461 ~ mse = 14.26876449584961. kl = 2.743403434753418\n",
      "Epoch 9 | étape 1000 | loss = 17.007591247558594 ~ mse = 14.300983428955078. kl = 2.706601858139038\n",
      "Epoch 9 | étape 1500 | loss = 17.04897689819336 ~ mse = 14.335479736328125. kl = 2.713491201400757\n",
      "Epoch 9 | étape 2000 | loss = 17.127063751220703 ~ mse = 14.378945350646973. kl = 2.7481327056884766\n",
      "Epoch 9 | étape 2500 | loss = 17.068477630615234 ~ mse = 14.326858520507812. kl = 2.741633892059326\n",
      "Epoch 9 | étape 3000 | loss = 16.96392822265625 ~ mse = 14.223248481750488. kl = 2.740689992904663\n",
      "Epoch 9 | étape 3500 | loss = 17.000022888183594 ~ mse = 14.257813453674316. kl = 2.7422056198120117\n"
     ]
    }
   ],
   "source": [
    "params, opt_state = train(key, params, freq=500, epochs=10, opt_state=opt_state, train_loader=train_loader, batch_size=batch_size, train_step=train_step)"
   ]
  },
  {
   "cell_type": "code",
   "execution_count": 10,
   "id": "59fc21ad",
   "metadata": {},
   "outputs": [
    {
     "data": {
      "image/png": "[encoded data removed]",
      "text/plain": [
       "<Figure size 640x480 with 1 Axes>"
      ]
     },
     "metadata": {},
     "output_type": "display_data"
    },
    {
     "data": {
      "text/plain": [
       "array([[0., 0., 0., ..., 0., 0., 0.],\n",
       "       [0., 0., 0., ..., 0., 0., 0.],\n",
       "       [0., 0., 0., ..., 0., 0., 0.],\n",
       "       ...,\n",
       "       [0., 0., 0., ..., 0., 0., 0.],\n",
       "       [0., 0., 0., ..., 0., 0., 0.],\n",
       "       [0., 0., 0., ..., 0., 0., 0.]], dtype=float32)"
      ]
     },
     "execution_count": 10,
     "metadata": {},
     "output_type": "execute_result"
    }
   ],
   "source": [
    "model.img_gen(key, params, n_classes=num_classes, img_class=0, h=4, w=4)"
   ]
  },
  {
   "cell_type": "code",
   "execution_count": 11,
   "id": "58b14605",
   "metadata": {},
   "outputs": [],
   "source": [
    "test_dataset = MNIST('data', train = False, transform=T.ToTensor(), download=True)\n",
    "test_loader = DataLoader(test_dataset, batch_size=batch_size, shuffle=True, drop_last=True)"
   ]
  },
  {
   "cell_type": "code",
   "execution_count": 12,
   "id": "10e5d144",
   "metadata": {},
   "outputs": [
    {
     "name": "stdout",
     "output_type": "stream",
     "text": [
      "Loss totale moyenne = 16.99862289428711\n",
      "MSE totale moyenne = 14.30423641204834\n",
      "kl totale moyenne = 2.6943914890289307\n"
     ]
    }
   ],
   "source": [
    "total_loss, total_mse, total_kl, loss_distrib = model.evaluate(key, params, n_classes=num_classes, data_loader=test_loader, batch_size=batch_size, get_loss_distrib=True)"
   ]
  },
  {
   "cell_type": "code",
   "execution_count": 13,
   "id": "1155808c",
   "metadata": {},
   "outputs": [
    {
     "name": "stdout",
     "output_type": "stream",
     "text": [
      "Image 0 | loss = 49.677398681640625 ~ mse = 47.728424072265625. kl = 1.9489749670028687\n",
      "Image 1 | loss = 48.82600784301758 ~ mse = 46.641456604003906. kl = 2.184551239013672\n",
      "Image 2 | loss = 43.8281364440918 ~ mse = 42.14537811279297. kl = 1.6827589273452759\n",
      "Image 3 | loss = 21.08338165283203 ~ mse = 18.266395568847656. kl = 2.8169870376586914\n",
      "Image 4 | loss = 47.949520111083984 ~ mse = 45.38458251953125. kl = 2.5649380683898926\n",
      "Image 5 | loss = 51.05708312988281 ~ mse = 49.47574234008789. kl = 1.581341028213501\n",
      "Image 6 | loss = 54.3429069519043 ~ mse = 52.9970703125. kl = 1.3458380699157715\n",
      "Image 7 | loss = 43.29399871826172 ~ mse = 39.725730895996094. kl = 3.5682666301727295\n",
      "Image 8 | loss = 46.57864761352539 ~ mse = 45.209144592285156. kl = 1.3695043325424194\n",
      "Image 9 | loss = 47.18157958984375 ~ mse = 44.02333068847656. kl = 3.158250570297241\n",
      "Image 10 | loss = 15.423199653625488 ~ mse = 12.533028602600098. kl = 2.8901710510253906\n",
      "...\n",
      "...\n",
      "...\n",
      "Image 9991 | loss = 57.766117095947266 ~ mse = 54.653236389160156. kl = 3.1128807067871094\n",
      "Image 9992 | loss = 50.08924865722656 ~ mse = 47.33967208862305. kl = 2.749577283859253\n",
      "Image 9993 | loss = 28.65337371826172 ~ mse = 24.25510025024414. kl = 4.39827299118042\n",
      "Image 9994 | loss = 56.60456848144531 ~ mse = 54.9370002746582. kl = 1.667568325996399\n",
      "Image 9995 | loss = 64.99993133544922 ~ mse = 61.54122543334961. kl = 3.4587059020996094\n",
      "Image 9996 | loss = 51.77922439575195 ~ mse = 49.41908645629883. kl = 2.3601372241973877\n",
      "Image 9997 | loss = 55.06694030761719 ~ mse = 51.98912048339844. kl = 3.0778181552886963\n",
      "Image 9998 | loss = 37.3564453125 ~ mse = 34.75278091430664. kl = 2.603665351867676\n",
      "Image 9999 | loss = 42.733707427978516 ~ mse = 38.793235778808594. kl = 3.9404704570770264\n"
     ]
    }
   ],
   "source": [
    "class_of_ref = 0\n",
    "quantile = 0.99 # par défaut, bien que la valeur devrait être tunée via des méthodes de cross-validation\n",
    "\n",
    "\n",
    "img = prepare_test_set(test_loader.dataset, class_of_ref, mixed_classes=True)\n",
    "    \n",
    "thresh = jnp.quantile(jnp.asarray(loss_distrib), quantile)\n",
    "anomalies = model.det_anom(key, params, img, n_classes=num_classes, tested_class=class_of_ref, threshold=thresh)"
   ]
  },
  {
   "cell_type": "code",
   "execution_count": 14,
   "id": "f4123e53",
   "metadata": {},
   "outputs": [
    {
     "name": "stdout",
     "output_type": "stream",
     "text": [
      "726\n",
      "9274\n"
     ]
    }
   ],
   "source": [
    "print(jnp.sum(anomalies[\"estAnomalie\"] == False))\n",
    "print(jnp.sum(jnp.asarray(anomalies[\"estAnomalie\"]) == True))"
   ]
  },
  {
   "cell_type": "code",
   "execution_count": 15,
   "id": "cc0f39ac",
   "metadata": {},
   "outputs": [],
   "source": [
    "y_true = get__y_true(test_loader.dataset, class_of_ref=class_of_ref)"
   ]
  },
  {
   "cell_type": "code",
   "execution_count": 16,
   "id": "e251ee85",
   "metadata": {},
   "outputs": [
    {
     "name": "stdout",
     "output_type": "stream",
     "text": [
      "              precision    recall  f1-score   support\n",
      "\n",
      "       False       1.00      0.74      0.85       980\n",
      "        True       0.97      1.00      0.99      9020\n",
      "\n",
      "    accuracy                           0.97     10000\n",
      "   macro avg       0.98      0.87      0.92     10000\n",
      "weighted avg       0.97      0.97      0.97     10000\n",
      "\n"
     ]
    }
   ],
   "source": [
    "# MNIST dataset\n",
    "\n",
    "print(classification_report(y_true, anomalies[\"estAnomalie\"]))"
   ]
  },
  {
   "cell_type": "code",
   "execution_count": 142,
   "id": "9fdc3e78",
   "metadata": {},
   "outputs": [
    {
     "name": "stdout",
     "output_type": "stream",
     "text": [
      "              precision    recall  f1-score   support\n",
      "\n",
      "       False       0.29      0.84      0.43      1000\n",
      "        True       0.98      0.77      0.86      9000\n",
      "\n",
      "    accuracy                           0.78     10000\n",
      "   macro avg       0.63      0.81      0.64     10000\n",
      "weighted avg       0.91      0.78      0.82     10000\n",
      "\n"
     ]
    }
   ],
   "source": [
    "# FashionMNIST dataset\n",
    "from sklearn.metrics import classification_report\n",
    "\n",
    "print(classification_report(y_true, anomalies[\"estAnomalie\"]))"
   ]
  },
  {
   "cell_type": "code",
   "execution_count": null,
   "id": "b4ce269d",
   "metadata": {},
   "outputs": [],
   "source": []
  },
  {
   "cell_type": "code",
   "execution_count": null,
   "id": "3ad2ebe7",
   "metadata": {},
   "outputs": [],
   "source": []
  }
 ],
 "metadata": {
  "kernelspec": {
   "display_name": "keras_jax",
   "language": "python",
   "name": "keras_jax"
  },
  "language_info": {
   "codemirror_mode": {
    "name": "ipython",
    "version": 3
   },
   "file_extension": ".py",
   "mimetype": "text/x-python",
   "name": "python",
   "nbconvert_exporter": "python",
   "pygments_lexer": "ipython3",
   "version": "3.10.13"
  }
 },
 "nbformat": 4,
 "nbformat_minor": 5
}
