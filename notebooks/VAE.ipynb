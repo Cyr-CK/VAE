{
 "cells": [
  {
   "cell_type": "code",
   "execution_count": 1,
   "id": "7b764d80",
   "metadata": {},
   "outputs": [],
   "source": [
    "import os \n",
    " \n",
    "os.chdir(\"..\")"
   ]
  },
  {
   "cell_type": "code",
   "execution_count": 2,
   "id": "85099d7f",
   "metadata": {},
   "outputs": [],
   "source": [
    "%load_ext autoreload\n",
    "%autoreload 2"
   ]
  },
  {
   "cell_type": "code",
   "execution_count": 3,
   "id": "6e4b3d1e",
   "metadata": {},
   "outputs": [],
   "source": [
    "# Initialisation de constantes\n",
    "batch_size = 16 # taille de l'échantillon dont les erreurs de prédiction servent à maj les paramètres\n",
    "latent_dim = 32 # trop faible = compression extrême rendant illisible l'image\n",
    "                # trop élevé = reconstruction fidèle mais s'écarte de l'objectif de compression lié à l'usage d'un VAE\n",
    "kl_weight = 0.5 # trop faible = reconstruction impeccable des données mais aucun pouvoir d'échantillonnage\n",
    "                # trop élevé = reconstruction bruitée\n",
    "num_classes = 10 # vérifier le nombre de classes dans les données (par défaut 10)\n",
    "dim_params = 784 # vérifier les dimensions de vos images (H*W)\n",
    "seed = 0xffff"
   ]
  },
  {
   "cell_type": "code",
   "execution_count": 4,
   "id": "546cf61a",
   "metadata": {},
   "outputs": [],
   "source": [
    "# Chargement des packages\n",
    "import jax\n",
    "import flax\n",
    "import optax\n",
    "# import orbax\n",
    "\n",
    "import flax.linen as nn\n",
    "import jax.numpy as jnp\n",
    "from jax.typing import ArrayLike\n",
    "\n",
    "from typing import Tuple, Callable\n",
    "from math import sqrt\n",
    "\n",
    "import matplotlib.pyplot as plt\n",
    "from sklearn.metrics import classification_report\n",
    "\n",
    "key = jax.random.PRNGKey(seed)"
   ]
  },
  {
   "cell_type": "code",
   "execution_count": 48,
   "id": "4e3d7557",
   "metadata": {},
   "outputs": [],
   "source": [
    "# from src.data_modeling.VAE import FeedForward\n",
    "from src.data_modeling.VAE import VAE\n",
    "from src.data_modeling.train import generate_train_step\n",
    "from src.data_processing import prepare_test_set\n",
    "from src.data_processing import get__y_true"
   ]
  },
  {
   "cell_type": "code",
   "execution_count": 6,
   "id": "b8ce2476",
   "metadata": {},
   "outputs": [
    {
     "name": "stderr",
     "output_type": "stream",
     "text": [
      "C:\\ProgramData\\anaconda3\\envs\\keras_jax\\lib\\site-packages\\torchvision\\io\\image.py:13: UserWarning: Failed to load image Python extension: '[WinError 127] La procédure spécifiée est introuvable'If you don't plan on using image functionality from `torchvision.io`, you can ignore this warning. Otherwise, there might be something wrong with your environment. Did you have `libjpeg` or `libpng` installed before building `torchvision` from source?\n",
      "  warn(\n"
     ]
    }
   ],
   "source": [
    "import torchvision.transforms as T # message d'erreur : à ignorer\n",
    "from torchvision.datasets import MNIST\n",
    "# from torchvision.datasets import FashionMNIST\n",
    "from torch.utils.data import DataLoader\n",
    "#from torchvision.transforms import Grayscale\n",
    "#import torch"
   ]
  },
  {
   "cell_type": "code",
   "execution_count": 26,
   "id": "3e8d6537",
   "metadata": {},
   "outputs": [],
   "source": [
    "train_dataset = MNIST('../data', train = True, transform=T.ToTensor(), download=True)\n",
    "# train_dataset.data = train_dataset.data / 255\n",
    "train_loader = DataLoader(train_dataset, batch_size=batch_size, shuffle=True, drop_last=True) "
   ]
  },
  {
   "cell_type": "code",
   "execution_count": 27,
   "id": "a037f15f",
   "metadata": {},
   "outputs": [],
   "source": [
    "key, model_key = jax.random.split(key)\n",
    "\n",
    "model = VAE(latent_dim=latent_dim)\n",
    "optimizer = optax.adamw(learning_rate=1e-4)\n",
    "\n",
    "train_step, train, params, opt_state = generate_train_step(model_key, model, optimizer, batch_size=batch_size, num_classes=num_classes, dim_params=dim_params)"
   ]
  },
  {
   "cell_type": "code",
   "execution_count": 28,
   "id": "02c84cd6",
   "metadata": {
    "scrolled": true
   },
   "outputs": [
    {
     "name": "stdout",
     "output_type": "stream",
     "text": [
      "Epoch 0 | étape 500 | loss = 36.67604064941406 ~ mse = 36.372467041015625. kl = 0.3035733699798584\n",
      "Epoch 0 | étape 1000 | loss = 28.70025634765625 ~ mse = 28.451400756835938. kl = 0.2488711029291153\n",
      "Epoch 0 | étape 1500 | loss = 25.89902114868164 ~ mse = 25.389982223510742. kl = 0.5090377926826477\n",
      "Epoch 0 | étape 2000 | loss = 24.004985809326172 ~ mse = 23.354265213012695. kl = 0.6507256031036377\n",
      "Epoch 0 | étape 2500 | loss = 23.049598693847656 ~ mse = 22.463239669799805. kl = 0.5863709449768066\n",
      "Epoch 0 | étape 3000 | loss = 22.241016387939453 ~ mse = 21.696388244628906. kl = 0.5446146130561829\n",
      "Epoch 0 | étape 3500 | loss = 21.968021392822266 ~ mse = 21.42526626586914. kl = 0.5427746772766113\n",
      "Epoch 1 | étape 500 | loss = 21.665586471557617 ~ mse = 21.032228469848633. kl = 0.6333671808242798\n",
      "Epoch 1 | étape 1000 | loss = 21.436058044433594 ~ mse = 20.722644805908203. kl = 0.713437557220459\n",
      "Epoch 1 | étape 1500 | loss = 21.149168014526367 ~ mse = 20.310333251953125. kl = 0.8388416171073914\n",
      "Epoch 1 | étape 2000 | loss = 20.814226150512695 ~ mse = 19.86958122253418. kl = 0.9446457624435425\n",
      "Epoch 1 | étape 2500 | loss = 20.634246826171875 ~ mse = 19.58928871154785. kl = 1.044976830482483\n",
      "Epoch 1 | étape 3000 | loss = 20.442623138427734 ~ mse = 19.330869674682617. kl = 1.1117545366287231\n",
      "Epoch 1 | étape 3500 | loss = 20.278100967407227 ~ mse = 19.08197784423828. kl = 1.196126937866211\n",
      "Epoch 2 | étape 500 | loss = 19.978792190551758 ~ mse = 18.63251304626465. kl = 1.3462834358215332\n",
      "Epoch 2 | étape 1000 | loss = 19.934907913208008 ~ mse = 18.48111343383789. kl = 1.4537769556045532\n",
      "Epoch 2 | étape 1500 | loss = 19.738317489624023 ~ mse = 18.16773796081543. kl = 1.5705689191818237\n",
      "Epoch 2 | étape 2000 | loss = 19.559127807617188 ~ mse = 17.946334838867188. kl = 1.6127970218658447\n",
      "Epoch 2 | étape 2500 | loss = 19.415430068969727 ~ mse = 17.723373413085938. kl = 1.6920582056045532\n",
      "Epoch 2 | étape 3000 | loss = 19.3027286529541 ~ mse = 17.58985137939453. kl = 1.7128918170928955\n",
      "Epoch 2 | étape 3500 | loss = 19.21349334716797 ~ mse = 17.433977127075195. kl = 1.7795089483261108\n",
      "Epoch 3 | étape 500 | loss = 18.98859405517578 ~ mse = 17.150922775268555. kl = 1.8376686573028564\n",
      "Epoch 3 | étape 1000 | loss = 18.91277313232422 ~ mse = 17.03209114074707. kl = 1.8806742429733276\n",
      "Epoch 3 | étape 1500 | loss = 18.916284561157227 ~ mse = 17.003095626831055. kl = 1.9131895303726196\n",
      "Epoch 3 | étape 2000 | loss = 18.77900505065918 ~ mse = 16.824325561523438. kl = 1.954676628112793\n",
      "Epoch 3 | étape 2500 | loss = 18.76372528076172 ~ mse = 16.74026107788086. kl = 2.023454427719116\n",
      "Epoch 3 | étape 3000 | loss = 18.631000518798828 ~ mse = 16.623014450073242. kl = 2.007986545562744\n",
      "Epoch 3 | étape 3500 | loss = 18.549413681030273 ~ mse = 16.462268829345703. kl = 2.0871522426605225\n",
      "Epoch 4 | étape 500 | loss = 18.425643920898438 ~ mse = 16.285932540893555. kl = 2.1397199630737305\n",
      "Epoch 4 | étape 1000 | loss = 18.264556884765625 ~ mse = 16.105422973632812. kl = 2.15913724899292\n",
      "Epoch 4 | étape 1500 | loss = 18.32630157470703 ~ mse = 16.137971878051758. kl = 2.1883249282836914\n",
      "Epoch 4 | étape 2000 | loss = 18.08619499206543 ~ mse = 15.884737014770508. kl = 2.201465606689453\n",
      "Epoch 4 | étape 2500 | loss = 18.22467803955078 ~ mse = 15.96467399597168. kl = 2.2600085735321045\n",
      "Epoch 4 | étape 3000 | loss = 17.95134735107422 ~ mse = 15.670955657958984. kl = 2.2803988456726074\n",
      "Epoch 4 | étape 3500 | loss = 18.1701602935791 ~ mse = 15.847213745117188. kl = 2.322950839996338\n",
      "Epoch 5 | étape 500 | loss = 17.886646270751953 ~ mse = 15.540258407592773. kl = 2.3463940620422363\n",
      "Epoch 5 | étape 1000 | loss = 17.92755126953125 ~ mse = 15.542515754699707. kl = 2.385031223297119\n",
      "Epoch 5 | étape 1500 | loss = 17.774328231811523 ~ mse = 15.367940902709961. kl = 2.4063966274261475\n",
      "Epoch 5 | étape 2000 | loss = 17.71483039855957 ~ mse = 15.291489601135254. kl = 2.423341751098633\n",
      "Epoch 5 | étape 2500 | loss = 17.838085174560547 ~ mse = 15.382010459899902. kl = 2.456078052520752\n",
      "Epoch 5 | étape 3000 | loss = 17.70797348022461 ~ mse = 15.234752655029297. kl = 2.47322416305542\n",
      "Epoch 5 | étape 3500 | loss = 17.699159622192383 ~ mse = 15.22420883178711. kl = 2.474945068359375\n",
      "Epoch 6 | étape 500 | loss = 17.653615951538086 ~ mse = 15.151568412780762. kl = 2.5020382404327393\n",
      "Epoch 6 | étape 1000 | loss = 17.631019592285156 ~ mse = 15.101974487304688. kl = 2.529043436050415\n",
      "Epoch 6 | étape 1500 | loss = 17.488779067993164 ~ mse = 14.940559387207031. kl = 2.5482254028320312\n",
      "Epoch 6 | étape 2000 | loss = 17.419063568115234 ~ mse = 14.87757682800293. kl = 2.541494846343994\n",
      "Epoch 6 | étape 2500 | loss = 17.642375946044922 ~ mse = 15.113731384277344. kl = 2.52864670753479\n",
      "Epoch 6 | étape 3000 | loss = 17.600160598754883 ~ mse = 15.035340309143066. kl = 2.5648107528686523\n",
      "Epoch 6 | étape 3500 | loss = 17.45996856689453 ~ mse = 14.896904945373535. kl = 2.563058376312256\n",
      "Epoch 7 | étape 500 | loss = 17.332456588745117 ~ mse = 14.764354705810547. kl = 2.5680925846099854\n",
      "Epoch 7 | étape 1000 | loss = 17.49310874938965 ~ mse = 14.900941848754883. kl = 2.5921690464019775\n",
      "Epoch 7 | étape 1500 | loss = 17.45020294189453 ~ mse = 14.83862018585205. kl = 2.611588954925537\n",
      "Epoch 7 | étape 2000 | loss = 17.503232955932617 ~ mse = 14.883733749389648. kl = 2.6195037364959717\n",
      "Epoch 7 | étape 2500 | loss = 17.287824630737305 ~ mse = 14.652629852294922. kl = 2.635188102722168\n",
      "Epoch 7 | étape 3000 | loss = 17.32424545288086 ~ mse = 14.708206176757812. kl = 2.6160383224487305\n",
      "Epoch 7 | étape 3500 | loss = 17.216386795043945 ~ mse = 14.56071662902832. kl = 2.6556668281555176\n",
      "Epoch 8 | étape 500 | loss = 17.35704231262207 ~ mse = 14.697467803955078. kl = 2.659578561782837\n",
      "Epoch 8 | étape 1000 | loss = 17.108362197875977 ~ mse = 14.426329612731934. kl = 2.682039976119995\n",
      "Epoch 8 | étape 1500 | loss = 17.3482608795166 ~ mse = 14.663037300109863. kl = 2.6852152347564697\n",
      "Epoch 8 | étape 2000 | loss = 17.22369384765625 ~ mse = 14.555953025817871. kl = 2.6677439212799072\n",
      "Epoch 8 | étape 2500 | loss = 17.1596736907959 ~ mse = 14.483695030212402. kl = 2.675978422164917\n",
      "Epoch 8 | étape 3000 | loss = 17.19490623474121 ~ mse = 14.49596118927002. kl = 2.698943853378296\n",
      "Epoch 8 | étape 3500 | loss = 17.24370574951172 ~ mse = 14.553972244262695. kl = 2.6897406578063965\n",
      "Epoch 9 | étape 500 | loss = 17.148767471313477 ~ mse = 14.470251083374023. kl = 2.6785120964050293\n",
      "Epoch 9 | étape 1000 | loss = 17.11113929748535 ~ mse = 14.40955638885498. kl = 2.701587200164795\n",
      "Epoch 9 | étape 1500 | loss = 16.987564086914062 ~ mse = 14.267539978027344. kl = 2.72002911567688\n",
      "Epoch 9 | étape 2000 | loss = 17.23038673400879 ~ mse = 14.50160026550293. kl = 2.7287802696228027\n",
      "Epoch 9 | étape 2500 | loss = 17.002391815185547 ~ mse = 14.262301445007324. kl = 2.7400946617126465\n",
      "Epoch 9 | étape 3000 | loss = 17.07482147216797 ~ mse = 14.366138458251953. kl = 2.7086760997772217\n",
      "Epoch 9 | étape 3500 | loss = 17.21780014038086 ~ mse = 14.465734481811523. kl = 2.752048969268799\n"
     ]
    }
   ],
   "source": [
    "params, opt_state = train(key, params, freq=500, epochs=10, opt_state=opt_state, train_loader=train_loader, batch_size=batch_size, train_step=train_step)"
   ]
  },
  {
   "cell_type": "code",
   "execution_count": 29,
   "id": "59fc21ad",
   "metadata": {},
   "outputs": [
    {
     "data": {
      "image/png": "[encoded data removed]",
      "text/plain": [
       "<Figure size 640x480 with 1 Axes>"
      ]
     },
     "metadata": {},
     "output_type": "display_data"
    },
    {
     "data": {
      "text/plain": [
       "array([[0.        , 0.        , 0.        , 0.        , 0.        ,\n",
       "        0.        , 0.        , 0.        , 0.        , 0.        ,\n",
       "        0.        , 0.        , 0.        , 0.        , 0.        ,\n",
       "        0.        , 0.        , 0.        , 0.        , 0.        ,\n",
       "        0.        , 0.        , 0.        , 0.        , 0.        ,\n",
       "        0.        , 0.        , 0.        ],\n",
       "       [0.        , 0.        , 0.        , 0.        , 0.        ,\n",
       "        0.        , 0.        , 0.        , 0.        , 0.        ,\n",
       "        0.        , 0.        , 0.        , 0.        , 0.        ,\n",
       "        0.        , 0.        , 0.        , 0.        , 0.        ,\n",
       "        0.        , 0.        , 0.        , 0.        , 0.        ,\n",
       "        0.        , 0.        , 0.        ],\n",
       "       [0.        , 0.        , 0.        , 0.        , 0.        ,\n",
       "        0.        , 0.        , 0.        , 0.        , 0.        ,\n",
       "        0.        , 0.        , 0.        , 0.        , 0.        ,\n",
       "        0.        , 0.        , 0.        , 0.        , 0.        ,\n",
       "        0.        , 0.        , 0.        , 0.        , 0.        ,\n",
       "        0.        , 0.        , 0.        ],\n",
       "       [0.        , 0.        , 0.        , 0.        , 0.        ,\n",
       "        0.        , 0.        , 0.        , 0.        , 0.        ,\n",
       "        0.        , 0.        , 0.        , 0.        , 0.        ,\n",
       "        0.        , 0.        , 0.        , 0.        , 0.        ,\n",
       "        0.        , 0.        , 0.        , 0.        , 0.        ,\n",
       "        0.        , 0.        , 0.        ],\n",
       "       [0.        , 0.        , 0.        , 0.        , 0.        ,\n",
       "        0.        , 0.        , 0.        , 0.        , 0.        ,\n",
       "        0.        , 0.        , 0.        , 0.        , 0.        ,\n",
       "        0.        , 0.13387275, 0.25298405, 0.39146647, 0.33450958,\n",
       "        0.22841498, 0.09905022, 0.        , 0.        , 0.        ,\n",
       "        0.        , 0.        , 0.        ],\n",
       "       [0.        , 0.        , 0.        , 0.        , 0.        ,\n",
       "        0.        , 0.        , 0.        , 0.        , 0.        ,\n",
       "        0.        , 0.        , 0.        , 0.        , 0.        ,\n",
       "        0.16733068, 0.4164344 , 0.60236806, 0.67717946, 0.6515303 ,\n",
       "        0.48165873, 0.31770474, 0.1495531 , 0.        , 0.        ,\n",
       "        0.        , 0.        , 0.        ],\n",
       "       [0.        , 0.        , 0.        , 0.        , 0.        ,\n",
       "        0.        , 0.        , 0.        , 0.        , 0.        ,\n",
       "        0.        , 0.        , 0.        , 0.        , 0.23881182,\n",
       "        0.48435333, 0.6830532 , 0.80780655, 0.8050917 , 0.75873464,\n",
       "        0.68604916, 0.51182157, 0.        , 0.        , 0.        ,\n",
       "        0.        , 0.        , 0.        ],\n",
       "       [0.        , 0.        , 0.        , 0.        , 0.        ,\n",
       "        0.        , 0.        , 0.        , 0.        , 0.        ,\n",
       "        0.        , 0.        , 0.        , 0.26232406, 0.5286421 ,\n",
       "        0.70530903, 0.8127971 , 0.82823855, 0.7497023 , 0.7231831 ,\n",
       "        0.72505414, 0.653321  , 0.43318707, 0.17583591, 0.        ,\n",
       "        0.        , 0.        , 0.        ],\n",
       "       [0.        , 0.        , 0.        , 0.        , 0.        ,\n",
       "        0.        , 0.        , 0.        , 0.        , 0.        ,\n",
       "        0.        , 0.        , 0.29901686, 0.5819005 , 0.71584046,\n",
       "        0.7842    , 0.8081137 , 0.6583196 , 0.57316124, 0.58925897,\n",
       "        0.6855538 , 0.60575926, 0.5091811 , 0.25562   , 0.09036154,\n",
       "        0.        , 0.        , 0.        ],\n",
       "       [0.        , 0.        , 0.        , 0.        , 0.        ,\n",
       "        0.        , 0.        , 0.        , 0.        , 0.        ,\n",
       "        0.        , 0.32134253, 0.6011585 , 0.7689559 , 0.766144  ,\n",
       "        0.7039317 , 0.54764324, 0.38990447, 0.3927735 , 0.4017415 ,\n",
       "        0.5274134 , 0.5825404 , 0.51893103, 0.2957529 , 0.        ,\n",
       "        0.        , 0.        , 0.        ],\n",
       "       [0.        , 0.        , 0.        , 0.        , 0.        ,\n",
       "        0.        , 0.        , 0.        , 0.        , 0.        ,\n",
       "        0.31072256, 0.6222572 , 0.7707825 , 0.7815576 , 0.637813  ,\n",
       "        0.4319542 , 0.28795913, 0.1584422 , 0.14939424, 0.26962325,\n",
       "        0.45450798, 0.53958637, 0.5687559 , 0.31837434, 0.        ,\n",
       "        0.        , 0.        , 0.        ],\n",
       "       [0.        , 0.        , 0.        , 0.        , 0.        ,\n",
       "        0.        , 0.        , 0.        , 0.        , 0.27663815,\n",
       "        0.65782666, 0.80246377, 0.806167  , 0.6217791 , 0.3674286 ,\n",
       "        0.17842671, 0.08741093, 0.0376737 , 0.08599195, 0.24402711,\n",
       "        0.44629246, 0.60358644, 0.48740956, 0.23240784, 0.        ,\n",
       "        0.        , 0.        , 0.        ],\n",
       "       [0.        , 0.        , 0.        , 0.        , 0.        ,\n",
       "        0.        , 0.        , 0.        , 0.20964326, 0.5934968 ,\n",
       "        0.78015983, 0.80127984, 0.63184613, 0.38942298, 0.17353491,\n",
       "        0.01211752, 0.00244246, 0.        , 0.05649091, 0.30268678,\n",
       "        0.53207886, 0.57047415, 0.4369486 , 0.19397424, 0.        ,\n",
       "        0.        , 0.        , 0.        ],\n",
       "       [0.        , 0.        , 0.        , 0.        , 0.        ,\n",
       "        0.        , 0.        , 0.11292307, 0.53622967, 0.77793854,\n",
       "        0.8486835 , 0.68210065, 0.4265509 , 0.12809959, 0.        ,\n",
       "        0.        , 0.        , 0.        , 0.05718481, 0.39591622,\n",
       "        0.59648573, 0.60831636, 0.37002423, 0.        , 0.        ,\n",
       "        0.        , 0.        , 0.        ],\n",
       "       [0.        , 0.        , 0.        , 0.        , 0.        ,\n",
       "        0.        , 0.01964886, 0.39752963, 0.7105858 , 0.82211214,\n",
       "        0.7234907 , 0.47776106, 0.17121904, 0.        , 0.        ,\n",
       "        0.        , 0.        , 0.04659421, 0.2402235 , 0.52157825,\n",
       "        0.64816743, 0.55341756, 0.24742153, 0.        , 0.        ,\n",
       "        0.        , 0.        , 0.        ],\n",
       "       [0.        , 0.        , 0.        , 0.        , 0.        ,\n",
       "        0.        , 0.28556666, 0.63390636, 0.77182126, 0.7484628 ,\n",
       "        0.49542606, 0.15655664, 0.        , 0.        , 0.        ,\n",
       "        0.        , 0.05329591, 0.27924496, 0.44847888, 0.683988  ,\n",
       "        0.6820704 , 0.4767414 , 0.06554376, 0.        , 0.        ,\n",
       "        0.        , 0.        , 0.        ],\n",
       "       [0.        , 0.        , 0.        , 0.        , 0.        ,\n",
       "        0.05046056, 0.4717816 , 0.7221987 , 0.6928311 , 0.5512985 ,\n",
       "        0.28220147, 0.00717922, 0.        , 0.        , 0.        ,\n",
       "        0.04072955, 0.2059318 , 0.455522  , 0.6818153 , 0.76830226,\n",
       "        0.617081  , 0.26378945, 0.        , 0.        , 0.        ,\n",
       "        0.        , 0.        , 0.        ],\n",
       "       [0.        , 0.        , 0.        , 0.        , 0.        ,\n",
       "        0.24246047, 0.56849694, 0.71275777, 0.6544613 , 0.35033882,\n",
       "        0.10046744, 0.        , 0.        , 0.        , 0.06005992,\n",
       "        0.24565813, 0.4618777 , 0.66097975, 0.78147405, 0.6807335 ,\n",
       "        0.39946184, 0.        , 0.        , 0.        , 0.        ,\n",
       "        0.        , 0.        , 0.        ],\n",
       "       [0.        , 0.        , 0.        , 0.        , 0.09539615,\n",
       "        0.33820617, 0.6410377 , 0.726352  , 0.5564312 , 0.23876485,\n",
       "        0.04650057, 0.        , 0.        , 0.16161595, 0.28357518,\n",
       "        0.51343155, 0.6973623 , 0.7723349 , 0.7014509 , 0.39403877,\n",
       "        0.10081503, 0.        , 0.        , 0.        , 0.        ,\n",
       "        0.        , 0.        , 0.        ],\n",
       "       [0.        , 0.        , 0.        , 0.        , 0.        ,\n",
       "        0.4308526 , 0.6613022 , 0.7046329 , 0.50433487, 0.27364978,\n",
       "        0.13581102, 0.14931066, 0.2537743 , 0.41255513, 0.54100686,\n",
       "        0.68996453, 0.7535632 , 0.6320944 , 0.39306745, 0.04624651,\n",
       "        0.        , 0.        , 0.        , 0.        , 0.        ,\n",
       "        0.        , 0.        , 0.        ],\n",
       "       [0.        , 0.        , 0.        , 0.        , 0.07213219,\n",
       "        0.35937306, 0.672146  , 0.7445654 , 0.6163689 , 0.47664854,\n",
       "        0.3766657 , 0.45008996, 0.5805585 , 0.7028817 , 0.754788  ,\n",
       "        0.74791414, 0.61021197, 0.308389  , 0.04621156, 0.        ,\n",
       "        0.        , 0.        , 0.        , 0.        , 0.        ,\n",
       "        0.        , 0.        , 0.        ],\n",
       "       [0.        , 0.        , 0.        , 0.        , 0.        ,\n",
       "        0.32674128, 0.65919435, 0.75474644, 0.7457035 , 0.720096  ,\n",
       "        0.76688045, 0.74517083, 0.77380025, 0.76148576, 0.6889934 ,\n",
       "        0.5467667 , 0.21531834, 0.        , 0.        , 0.        ,\n",
       "        0.        , 0.        , 0.        , 0.        , 0.        ,\n",
       "        0.        , 0.        , 0.        ],\n",
       "       [0.        , 0.        , 0.        , 0.        , 0.        ,\n",
       "        0.        , 0.44726714, 0.6442873 , 0.7466087 , 0.80310786,\n",
       "        0.8283919 , 0.78763694, 0.7284985 , 0.580724  , 0.3215964 ,\n",
       "        0.        , 0.        , 0.        , 0.        , 0.        ,\n",
       "        0.        , 0.        , 0.        , 0.        , 0.        ,\n",
       "        0.        , 0.        , 0.        ],\n",
       "       [0.        , 0.        , 0.        , 0.        , 0.        ,\n",
       "        0.06532662, 0.16447185, 0.3385064 , 0.50251925, 0.5588524 ,\n",
       "        0.60879135, 0.51251066, 0.30506533, 0.03029977, 0.        ,\n",
       "        0.        , 0.        , 0.        , 0.        , 0.        ,\n",
       "        0.        , 0.        , 0.        , 0.        , 0.        ,\n",
       "        0.        , 0.        , 0.        ],\n",
       "       [0.        , 0.        , 0.        , 0.        , 0.        ,\n",
       "        0.        , 0.        , 0.        , 0.06909678, 0.02956608,\n",
       "        0.06145609, 0.        , 0.        , 0.        , 0.        ,\n",
       "        0.        , 0.        , 0.        , 0.        , 0.        ,\n",
       "        0.        , 0.        , 0.        , 0.        , 0.        ,\n",
       "        0.        , 0.        , 0.        ],\n",
       "       [0.        , 0.        , 0.        , 0.        , 0.        ,\n",
       "        0.        , 0.        , 0.        , 0.        , 0.        ,\n",
       "        0.        , 0.        , 0.        , 0.        , 0.        ,\n",
       "        0.        , 0.        , 0.        , 0.        , 0.        ,\n",
       "        0.        , 0.        , 0.        , 0.        , 0.        ,\n",
       "        0.        , 0.        , 0.        ],\n",
       "       [0.        , 0.        , 0.        , 0.        , 0.        ,\n",
       "        0.        , 0.        , 0.        , 0.        , 0.        ,\n",
       "        0.        , 0.        , 0.        , 0.        , 0.        ,\n",
       "        0.        , 0.        , 0.        , 0.        , 0.        ,\n",
       "        0.        , 0.        , 0.        , 0.        , 0.        ,\n",
       "        0.        , 0.        , 0.        ],\n",
       "       [0.        , 0.        , 0.        , 0.        , 0.        ,\n",
       "        0.        , 0.        , 0.        , 0.        , 0.        ,\n",
       "        0.        , 0.        , 0.        , 0.        , 0.        ,\n",
       "        0.        , 0.        , 0.        , 0.        , 0.        ,\n",
       "        0.        , 0.        , 0.        , 0.        , 0.        ,\n",
       "        0.        , 0.        , 0.        ]], dtype=float32)"
      ]
     },
     "execution_count": 29,
     "metadata": {},
     "output_type": "execute_result"
    }
   ],
   "source": [
    "model.img_gen(key, params, n_classes=num_classes, img_class=0, h=1, w=1)"
   ]
  },
  {
   "cell_type": "code",
   "execution_count": 30,
   "id": "58b14605",
   "metadata": {},
   "outputs": [],
   "source": [
    "test_dataset = MNIST('data', train = False, transform=T.ToTensor(), download=True)\n",
    "# test_dataset.data = test_dataset.data / 255\n",
    "test_loader = DataLoader(test_dataset, batch_size=batch_size, shuffle=True, drop_last=True)"
   ]
  },
  {
   "cell_type": "code",
   "execution_count": 31,
   "id": "10e5d144",
   "metadata": {},
   "outputs": [
    {
     "name": "stdout",
     "output_type": "stream",
     "text": [
      "Loss totale moyenne = 17.05521583557129\n",
      "MSE totale moyenne = 14.486470222473145\n",
      "kl totale moyenne = 2.5687263011932373\n"
     ]
    }
   ],
   "source": [
    "total_loss, total_mse, total_kl, loss_distrib = model.evaluate(key, params, n_classes=num_classes, data_loader=test_loader, batch_size=batch_size, get_loss_distrib=True)"
   ]
  },
  {
   "cell_type": "code",
   "execution_count": 47,
   "id": "1155808c",
   "metadata": {},
   "outputs": [
    {
     "name": "stdout",
     "output_type": "stream",
     "text": [
      "Image 0 | loss = 46.95705795288086 ~ mse = 45.30791091918945. kl = 1.6491472721099854\n",
      "Image 1 | loss = 40.846343994140625 ~ mse = 38.77825927734375. kl = 2.0680840015411377\n",
      "Image 2 | loss = 43.7667121887207 ~ mse = 42.12091827392578. kl = 1.6457927227020264\n",
      "Image 3 | loss = 16.453550338745117 ~ mse = 13.86862564086914. kl = 2.5849242210388184\n",
      "Image 4 | loss = 51.78437805175781 ~ mse = 49.35668182373047. kl = 2.427696704864502\n",
      "Image 5 | loss = 46.9950065612793 ~ mse = 45.57130432128906. kl = 1.4237020015716553\n",
      "Image 6 | loss = 49.98847198486328 ~ mse = 48.432159423828125. kl = 1.5563135147094727\n",
      "Image 7 | loss = 40.84624481201172 ~ mse = 37.68585968017578. kl = 3.160384178161621\n",
      "Image 8 | loss = 47.14474105834961 ~ mse = 45.68415069580078. kl = 1.4605903625488281\n",
      "Image 9 | loss = 45.35223388671875 ~ mse = 42.513954162597656. kl = 2.838280200958252\n",
      "Image 10 | loss = 14.206409454345703 ~ mse = 11.102203369140625. kl = 3.1042065620422363\n",
      "Image 11 | loss = 40.96507263183594 ~ mse = 38.28424072265625. kl = 2.6808300018310547\n",
      "Image 12 | loss = 43.23328399658203 ~ mse = 41.30485534667969. kl = 1.9284300804138184\n",
      "Image 13 | loss = 13.620438575744629 ~ mse = 10.941864013671875. kl = 2.678574800491333\n",
      "Image 14 | loss = 43.09236145019531 ~ mse = 41.63179016113281. kl = 1.4605722427368164\n",
      "Image 15 | loss = 39.87480545043945 ~ mse = 36.74457550048828. kl = 3.13023042678833\n",
      "Image 16 | loss = 52.4345817565918 ~ mse = 49.941139221191406. kl = 2.493443012237549\n",
      "Image 17 | loss = 53.2072639465332 ~ mse = 51.41023254394531. kl = 1.797031044960022\n",
      "Image 18 | loss = 57.035545349121094 ~ mse = 51.70424270629883. kl = 5.331302642822266\n",
      "Image 19 | loss = 37.18209457397461 ~ mse = 35.339515686035156. kl = 1.842578411102295\n",
      "Image 20 | loss = 34.53168869018555 ~ mse = 32.135398864746094. kl = 2.3962912559509277\n",
      "Image 21 | loss = 30.228748321533203 ~ mse = 27.712604522705078. kl = 2.516143798828125\n",
      "Image 22 | loss = 50.98031997680664 ~ mse = 47.72248077392578. kl = 3.2578396797180176\n",
      "Image 23 | loss = 24.060523986816406 ~ mse = 22.14609146118164. kl = 1.914433240890503\n",
      "Image 24 | loss = 29.146554946899414 ~ mse = 27.057701110839844. kl = 2.0888538360595703\n",
      "Image 25 | loss = 20.976444244384766 ~ mse = 16.941415786743164. kl = 4.035028457641602\n",
      "Image 26 | loss = 44.518890380859375 ~ mse = 41.954410552978516. kl = 2.564481019973755\n",
      "Image 27 | loss = 48.98514175415039 ~ mse = 47.01004409790039. kl = 1.9750986099243164\n",
      "Image 28 | loss = 13.194328308105469 ~ mse = 10.241766929626465. kl = 2.952561378479004\n",
      "Image 29 | loss = 48.37018966674805 ~ mse = 46.09161376953125. kl = 2.2785775661468506\n",
      "Image 30 | loss = 34.73726272583008 ~ mse = 33.17881774902344. kl = 1.5584441423416138\n",
      "Image 31 | loss = 42.71049118041992 ~ mse = 40.737735748291016. kl = 1.9727563858032227\n",
      "Image 32 | loss = 41.742576599121094 ~ mse = 38.62433624267578. kl = 3.1182403564453125\n",
      "Image 33 | loss = 30.430255889892578 ~ mse = 26.685041427612305. kl = 3.7452149391174316\n",
      "Image 34 | loss = 42.93730926513672 ~ mse = 39.661869049072266. kl = 3.275440216064453\n",
      "Image 35 | loss = 46.69595718383789 ~ mse = 45.007659912109375. kl = 1.6882978677749634\n",
      "Image 36 | loss = 48.24271774291992 ~ mse = 46.3214111328125. kl = 1.9213056564331055\n",
      "Image 37 | loss = 46.08380889892578 ~ mse = 44.45363998413086. kl = 1.6301685571670532\n",
      "Image 38 | loss = 28.51974105834961 ~ mse = 26.649402618408203. kl = 1.8703386783599854\n",
      "Image 39 | loss = 38.12953186035156 ~ mse = 36.495941162109375. kl = 1.633589267730713\n",
      "Image 40 | loss = 43.991844177246094 ~ mse = 42.15985870361328. kl = 1.831986904144287\n",
      "Image 41 | loss = 35.328487396240234 ~ mse = 33.756839752197266. kl = 1.5716488361358643\n",
      "Image 42 | loss = 55.16966247558594 ~ mse = 53.11817169189453. kl = 2.051492691040039\n",
      "Image 43 | loss = 29.464248657226562 ~ mse = 26.516185760498047. kl = 2.948063373565674\n",
      "Image 44 | loss = 28.510101318359375 ~ mse = 26.018442153930664. kl = 2.4916601181030273\n",
      "Image 45 | loss = 29.904159545898438 ~ mse = 28.241561889648438. kl = 1.6625969409942627\n",
      "Image 46 | loss = 50.20741271972656 ~ mse = 45.97850799560547. kl = 4.228903293609619\n",
      "Image 47 | loss = 35.87392044067383 ~ mse = 33.759063720703125. kl = 2.1148555278778076\n",
      "Image 48 | loss = 54.06671905517578 ~ mse = 49.96570587158203. kl = 4.101012229919434\n",
      "Image 49 | loss = 61.337162017822266 ~ mse = 58.38661193847656. kl = 2.9505510330200195\n",
      "Image 50 | loss = 22.980735778808594 ~ mse = 20.86422348022461. kl = 2.116511821746826\n",
      "Image 51 | loss = 48.905426025390625 ~ mse = 45.12335205078125. kl = 3.7820725440979004\n"
     ]
    },
    {
     "ename": "KeyboardInterrupt",
     "evalue": "",
     "output_type": "error",
     "traceback": [
      "\u001b[1;31m---------------------------------------------------------------------------\u001b[0m",
      "\u001b[1;31mKeyboardInterrupt\u001b[0m                         Traceback (most recent call last)",
      "Cell \u001b[1;32mIn[47], line 8\u001b[0m\n\u001b[0;32m      5\u001b[0m img \u001b[38;5;241m=\u001b[39m prepare_test_set(test_loader\u001b[38;5;241m.\u001b[39mdataset, class_of_ref, mixed_classes\u001b[38;5;241m=\u001b[39m\u001b[38;5;28;01mTrue\u001b[39;00m)\n\u001b[0;32m      7\u001b[0m thresh \u001b[38;5;241m=\u001b[39m jnp\u001b[38;5;241m.\u001b[39mquantile(jnp\u001b[38;5;241m.\u001b[39masarray(loss_distrib), quantile)\n\u001b[1;32m----> 8\u001b[0m anomalies \u001b[38;5;241m=\u001b[39m \u001b[43mmodel\u001b[49m\u001b[38;5;241;43m.\u001b[39;49m\u001b[43mdet_anom\u001b[49m\u001b[43m(\u001b[49m\u001b[43mkey\u001b[49m\u001b[43m,\u001b[49m\u001b[43m \u001b[49m\u001b[43mparams\u001b[49m\u001b[43m,\u001b[49m\u001b[43m \u001b[49m\u001b[43mimg\u001b[49m\u001b[43m,\u001b[49m\u001b[43m \u001b[49m\u001b[43mn_classes\u001b[49m\u001b[38;5;241;43m=\u001b[39;49m\u001b[43mnum_classes\u001b[49m\u001b[43m,\u001b[49m\u001b[43m \u001b[49m\u001b[43mtested_class\u001b[49m\u001b[38;5;241;43m=\u001b[39;49m\u001b[43mclass_of_ref\u001b[49m\u001b[43m,\u001b[49m\u001b[43m \u001b[49m\u001b[43mthreshold\u001b[49m\u001b[38;5;241;43m=\u001b[39;49m\u001b[43mthresh\u001b[49m\u001b[43m)\u001b[49m\n",
      "File \u001b[1;32mC:\\ProgramData\\anaconda3\\envs\\keras_jax\\lib\\site-packages\\flax\\linen\\module.py:694\u001b[0m, in \u001b[0;36mwrap_method_once.<locals>.wrapped_module_method\u001b[1;34m(*args, **kwargs)\u001b[0m\n\u001b[0;32m    692\u001b[0m \u001b[38;5;28;01mif\u001b[39;00m args \u001b[38;5;129;01mand\u001b[39;00m \u001b[38;5;28misinstance\u001b[39m(args[\u001b[38;5;241m0\u001b[39m], Module):\n\u001b[0;32m    693\u001b[0m   \u001b[38;5;28mself\u001b[39m, args \u001b[38;5;241m=\u001b[39m args[\u001b[38;5;241m0\u001b[39m], args[\u001b[38;5;241m1\u001b[39m:]\n\u001b[1;32m--> 694\u001b[0m   \u001b[38;5;28;01mreturn\u001b[39;00m \u001b[38;5;28;43mself\u001b[39;49m\u001b[38;5;241;43m.\u001b[39;49m\u001b[43m_call_wrapped_method\u001b[49m\u001b[43m(\u001b[49m\u001b[43mfun\u001b[49m\u001b[43m,\u001b[49m\u001b[43m \u001b[49m\u001b[43margs\u001b[49m\u001b[43m,\u001b[49m\u001b[43m \u001b[49m\u001b[43mkwargs\u001b[49m\u001b[43m)\u001b[49m\n\u001b[0;32m    695\u001b[0m \u001b[38;5;28;01melse\u001b[39;00m:\n\u001b[0;32m    696\u001b[0m   \u001b[38;5;28;01mreturn\u001b[39;00m fun(\u001b[38;5;241m*\u001b[39margs, \u001b[38;5;241m*\u001b[39m\u001b[38;5;241m*\u001b[39mkwargs)\n",
      "File \u001b[1;32mC:\\ProgramData\\anaconda3\\envs\\keras_jax\\lib\\site-packages\\flax\\linen\\module.py:1226\u001b[0m, in \u001b[0;36mModule._call_wrapped_method\u001b[1;34m(self, fun, args, kwargs)\u001b[0m\n\u001b[0;32m   1224\u001b[0m \u001b[38;5;28;01mif\u001b[39;00m _use_named_call:\n\u001b[0;32m   1225\u001b[0m   \u001b[38;5;28;01mwith\u001b[39;00m jax\u001b[38;5;241m.\u001b[39mnamed_scope(_derive_profiling_name(\u001b[38;5;28mself\u001b[39m, fun)):\n\u001b[1;32m-> 1226\u001b[0m     y \u001b[38;5;241m=\u001b[39m run_fun(\u001b[38;5;28mself\u001b[39m, \u001b[38;5;241m*\u001b[39margs, \u001b[38;5;241m*\u001b[39m\u001b[38;5;241m*\u001b[39mkwargs)\n\u001b[0;32m   1227\u001b[0m \u001b[38;5;28;01melse\u001b[39;00m:\n\u001b[0;32m   1228\u001b[0m   y \u001b[38;5;241m=\u001b[39m run_fun(\u001b[38;5;28mself\u001b[39m, \u001b[38;5;241m*\u001b[39margs, \u001b[38;5;241m*\u001b[39m\u001b[38;5;241m*\u001b[39mkwargs)\n",
      "File \u001b[1;32m~\\Documents\\Data Science\\Projets\\Python\\projects\\Variational_Inference\\src\\data_modeling\\VAE\\__init__.py:173\u001b[0m, in \u001b[0;36mVAE.det_anom\u001b[1;34m(self, key, params, img_array, n_classes, tested_class, threshold, grayscale)\u001b[0m\n\u001b[0;32m    171\u001b[0m img \u001b[38;5;241m=\u001b[39m img\u001b[38;5;241m.\u001b[39mflatten()\n\u001b[0;32m    172\u001b[0m c \u001b[38;5;241m=\u001b[39m jax\u001b[38;5;241m.\u001b[39mnn\u001b[38;5;241m.\u001b[39mone_hot(tested_class, n_classes) \u001b[38;5;66;03m# encodage one hot des classes d'image\u001b[39;00m\n\u001b[1;32m--> 173\u001b[0m recon, mean, logvar \u001b[38;5;241m=\u001b[39m \u001b[38;5;28;43mself\u001b[39;49m\u001b[38;5;241;43m.\u001b[39;49m\u001b[43mapply\u001b[49m\u001b[43m(\u001b[49m\u001b[43mparams\u001b[49m\u001b[43m,\u001b[49m\u001b[43m \u001b[49m\u001b[43mimg\u001b[49m\u001b[43m,\u001b[49m\u001b[43m \u001b[49m\u001b[43mc\u001b[49m\u001b[43m,\u001b[49m\u001b[43m \u001b[49m\u001b[43msubkey\u001b[49m\u001b[43m)\u001b[49m\n\u001b[0;32m    174\u001b[0m mse_loss \u001b[38;5;241m=\u001b[39m optax\u001b[38;5;241m.\u001b[39ml2_loss(recon, img)\u001b[38;5;241m.\u001b[39msum(axis\u001b[38;5;241m=\u001b[39m\u001b[38;5;241m0\u001b[39m)\u001b[38;5;241m.\u001b[39mmean()\n\u001b[0;32m    175\u001b[0m kl_loss \u001b[38;5;241m=\u001b[39m jnp\u001b[38;5;241m.\u001b[39mmean(\u001b[38;5;241m-\u001b[39m\u001b[38;5;241m0.5\u001b[39m \u001b[38;5;241m*\u001b[39m jnp\u001b[38;5;241m.\u001b[39msum(\u001b[38;5;241m1\u001b[39m \u001b[38;5;241m+\u001b[39m logvar \u001b[38;5;241m-\u001b[39m mean \u001b[38;5;241m*\u001b[39m\u001b[38;5;241m*\u001b[39m \u001b[38;5;241m2\u001b[39m \u001b[38;5;241m-\u001b[39m jnp\u001b[38;5;241m.\u001b[39mexp(logvar), axis\u001b[38;5;241m=\u001b[39m\u001b[38;5;241m0\u001b[39m))\n",
      "    \u001b[1;31m[... skipping hidden 1 frame]\u001b[0m\n",
      "File \u001b[1;32mC:\\ProgramData\\anaconda3\\envs\\keras_jax\\lib\\site-packages\\flax\\linen\\module.py:2151\u001b[0m, in \u001b[0;36mModule.apply\u001b[1;34m(self, variables, rngs, method, mutable, capture_intermediates, *args, **kwargs)\u001b[0m\n\u001b[0;32m   2149\u001b[0m   method \u001b[38;5;241m=\u001b[39m \u001b[38;5;28mself\u001b[39m\u001b[38;5;241m.\u001b[39m\u001b[38;5;21m__call__\u001b[39m\n\u001b[0;32m   2150\u001b[0m method \u001b[38;5;241m=\u001b[39m _get_unbound_fn(method)\n\u001b[1;32m-> 2151\u001b[0m \u001b[38;5;28;01mreturn\u001b[39;00m apply(\n\u001b[0;32m   2152\u001b[0m   method,\n\u001b[0;32m   2153\u001b[0m   \u001b[38;5;28mself\u001b[39m,\n\u001b[0;32m   2154\u001b[0m   mutable\u001b[38;5;241m=\u001b[39mmutable,\n\u001b[0;32m   2155\u001b[0m   capture_intermediates\u001b[38;5;241m=\u001b[39mcapture_intermediates,\n\u001b[0;32m   2156\u001b[0m )(variables, \u001b[38;5;241m*\u001b[39margs, \u001b[38;5;241m*\u001b[39m\u001b[38;5;241m*\u001b[39mkwargs, rngs\u001b[38;5;241m=\u001b[39mrngs)\n",
      "File \u001b[1;32mC:\\ProgramData\\anaconda3\\envs\\keras_jax\\lib\\site-packages\\flax\\core\\scope.py:1101\u001b[0m, in \u001b[0;36mapply.<locals>.wrapper\u001b[1;34m(variables, rngs, *args, **kwargs)\u001b[0m\n\u001b[0;32m   1096\u001b[0m   \u001b[38;5;28;01mraise\u001b[39;00m errors\u001b[38;5;241m.\u001b[39mApplyScopeInvalidVariablesStructureError(variables)\n\u001b[0;32m   1098\u001b[0m \u001b[38;5;28;01mwith\u001b[39;00m bind(\n\u001b[0;32m   1099\u001b[0m   variables, rngs\u001b[38;5;241m=\u001b[39mrngs, mutable\u001b[38;5;241m=\u001b[39mmutable, flags\u001b[38;5;241m=\u001b[39mflags\n\u001b[0;32m   1100\u001b[0m )\u001b[38;5;241m.\u001b[39mtemporary() \u001b[38;5;28;01mas\u001b[39;00m root:\n\u001b[1;32m-> 1101\u001b[0m   y \u001b[38;5;241m=\u001b[39m fn(root, \u001b[38;5;241m*\u001b[39margs, \u001b[38;5;241m*\u001b[39m\u001b[38;5;241m*\u001b[39mkwargs)\n\u001b[0;32m   1102\u001b[0m \u001b[38;5;28;01mif\u001b[39;00m mutable \u001b[38;5;129;01mis\u001b[39;00m \u001b[38;5;129;01mnot\u001b[39;00m \u001b[38;5;28;01mFalse\u001b[39;00m:\n\u001b[0;32m   1103\u001b[0m   \u001b[38;5;28;01mreturn\u001b[39;00m y, root\u001b[38;5;241m.\u001b[39mmutable_variables()\n",
      "File \u001b[1;32mC:\\ProgramData\\anaconda3\\envs\\keras_jax\\lib\\site-packages\\flax\\linen\\module.py:2901\u001b[0m, in \u001b[0;36mapply.<locals>.scope_fn\u001b[1;34m(scope, *args, **kwargs)\u001b[0m\n\u001b[0;32m   2899\u001b[0m _context\u001b[38;5;241m.\u001b[39mcapture_stack\u001b[38;5;241m.\u001b[39mappend(capture_intermediates)\n\u001b[0;32m   2900\u001b[0m \u001b[38;5;28;01mtry\u001b[39;00m:\n\u001b[1;32m-> 2901\u001b[0m   \u001b[38;5;28;01mreturn\u001b[39;00m fn(module\u001b[38;5;241m.\u001b[39mclone(parent\u001b[38;5;241m=\u001b[39mscope, _deep_clone\u001b[38;5;241m=\u001b[39m\u001b[38;5;28;01mTrue\u001b[39;00m), \u001b[38;5;241m*\u001b[39margs, \u001b[38;5;241m*\u001b[39m\u001b[38;5;241m*\u001b[39mkwargs)\n\u001b[0;32m   2902\u001b[0m \u001b[38;5;28;01mfinally\u001b[39;00m:\n\u001b[0;32m   2903\u001b[0m   _context\u001b[38;5;241m.\u001b[39mcapture_stack\u001b[38;5;241m.\u001b[39mpop()\n",
      "File \u001b[1;32mC:\\ProgramData\\anaconda3\\envs\\keras_jax\\lib\\site-packages\\flax\\linen\\module.py:694\u001b[0m, in \u001b[0;36mwrap_method_once.<locals>.wrapped_module_method\u001b[1;34m(*args, **kwargs)\u001b[0m\n\u001b[0;32m    692\u001b[0m \u001b[38;5;28;01mif\u001b[39;00m args \u001b[38;5;129;01mand\u001b[39;00m \u001b[38;5;28misinstance\u001b[39m(args[\u001b[38;5;241m0\u001b[39m], Module):\n\u001b[0;32m    693\u001b[0m   \u001b[38;5;28mself\u001b[39m, args \u001b[38;5;241m=\u001b[39m args[\u001b[38;5;241m0\u001b[39m], args[\u001b[38;5;241m1\u001b[39m:]\n\u001b[1;32m--> 694\u001b[0m   \u001b[38;5;28;01mreturn\u001b[39;00m \u001b[38;5;28;43mself\u001b[39;49m\u001b[38;5;241;43m.\u001b[39;49m\u001b[43m_call_wrapped_method\u001b[49m\u001b[43m(\u001b[49m\u001b[43mfun\u001b[49m\u001b[43m,\u001b[49m\u001b[43m \u001b[49m\u001b[43margs\u001b[49m\u001b[43m,\u001b[49m\u001b[43m \u001b[49m\u001b[43mkwargs\u001b[49m\u001b[43m)\u001b[49m\n\u001b[0;32m    695\u001b[0m \u001b[38;5;28;01melse\u001b[39;00m:\n\u001b[0;32m    696\u001b[0m   \u001b[38;5;28;01mreturn\u001b[39;00m fun(\u001b[38;5;241m*\u001b[39margs, \u001b[38;5;241m*\u001b[39m\u001b[38;5;241m*\u001b[39mkwargs)\n",
      "File \u001b[1;32mC:\\ProgramData\\anaconda3\\envs\\keras_jax\\lib\\site-packages\\flax\\linen\\module.py:1226\u001b[0m, in \u001b[0;36mModule._call_wrapped_method\u001b[1;34m(self, fun, args, kwargs)\u001b[0m\n\u001b[0;32m   1224\u001b[0m \u001b[38;5;28;01mif\u001b[39;00m _use_named_call:\n\u001b[0;32m   1225\u001b[0m   \u001b[38;5;28;01mwith\u001b[39;00m jax\u001b[38;5;241m.\u001b[39mnamed_scope(_derive_profiling_name(\u001b[38;5;28mself\u001b[39m, fun)):\n\u001b[1;32m-> 1226\u001b[0m     y \u001b[38;5;241m=\u001b[39m run_fun(\u001b[38;5;28mself\u001b[39m, \u001b[38;5;241m*\u001b[39margs, \u001b[38;5;241m*\u001b[39m\u001b[38;5;241m*\u001b[39mkwargs)\n\u001b[0;32m   1227\u001b[0m \u001b[38;5;28;01melse\u001b[39;00m:\n\u001b[0;32m   1228\u001b[0m   y \u001b[38;5;241m=\u001b[39m run_fun(\u001b[38;5;28mself\u001b[39m, \u001b[38;5;241m*\u001b[39margs, \u001b[38;5;241m*\u001b[39m\u001b[38;5;241m*\u001b[39mkwargs)\n",
      "File \u001b[1;32m~\\Documents\\Data Science\\Projets\\Python\\projects\\Variational_Inference\\src\\data_modeling\\VAE\\__init__.py:83\u001b[0m, in \u001b[0;36mVAE.__call__\u001b[1;34m(self, x, c, key)\u001b[0m\n\u001b[0;32m     81\u001b[0m mean, logvar \u001b[38;5;241m=\u001b[39m \u001b[38;5;28mself\u001b[39m\u001b[38;5;241m.\u001b[39mencode(x) \u001b[38;5;66;03m# i.e. maxpooling/downsampling (pour un CNN)\u001b[39;00m\n\u001b[0;32m     82\u001b[0m z \u001b[38;5;241m=\u001b[39m \u001b[38;5;28mself\u001b[39m\u001b[38;5;241m.\u001b[39mreparam(mean, logvar, key)\n\u001b[1;32m---> 83\u001b[0m y \u001b[38;5;241m=\u001b[39m \u001b[38;5;28;43mself\u001b[39;49m\u001b[38;5;241;43m.\u001b[39;49m\u001b[43mdecode\u001b[49m\u001b[43m(\u001b[49m\u001b[43mz\u001b[49m\u001b[43m,\u001b[49m\u001b[43m \u001b[49m\u001b[43mc\u001b[49m\u001b[43m)\u001b[49m \u001b[38;5;66;03m# i.e. upsampling (pour un CNN)\u001b[39;00m\n\u001b[0;32m     84\u001b[0m \u001b[38;5;28;01mreturn\u001b[39;00m y, mean, logvar\n",
      "File \u001b[1;32mC:\\ProgramData\\anaconda3\\envs\\keras_jax\\lib\\site-packages\\flax\\linen\\module.py:694\u001b[0m, in \u001b[0;36mwrap_method_once.<locals>.wrapped_module_method\u001b[1;34m(*args, **kwargs)\u001b[0m\n\u001b[0;32m    692\u001b[0m \u001b[38;5;28;01mif\u001b[39;00m args \u001b[38;5;129;01mand\u001b[39;00m \u001b[38;5;28misinstance\u001b[39m(args[\u001b[38;5;241m0\u001b[39m], Module):\n\u001b[0;32m    693\u001b[0m   \u001b[38;5;28mself\u001b[39m, args \u001b[38;5;241m=\u001b[39m args[\u001b[38;5;241m0\u001b[39m], args[\u001b[38;5;241m1\u001b[39m:]\n\u001b[1;32m--> 694\u001b[0m   \u001b[38;5;28;01mreturn\u001b[39;00m \u001b[38;5;28;43mself\u001b[39;49m\u001b[38;5;241;43m.\u001b[39;49m\u001b[43m_call_wrapped_method\u001b[49m\u001b[43m(\u001b[49m\u001b[43mfun\u001b[49m\u001b[43m,\u001b[49m\u001b[43m \u001b[49m\u001b[43margs\u001b[49m\u001b[43m,\u001b[49m\u001b[43m \u001b[49m\u001b[43mkwargs\u001b[49m\u001b[43m)\u001b[49m\n\u001b[0;32m    695\u001b[0m \u001b[38;5;28;01melse\u001b[39;00m:\n\u001b[0;32m    696\u001b[0m   \u001b[38;5;28;01mreturn\u001b[39;00m fun(\u001b[38;5;241m*\u001b[39margs, \u001b[38;5;241m*\u001b[39m\u001b[38;5;241m*\u001b[39mkwargs)\n",
      "File \u001b[1;32mC:\\ProgramData\\anaconda3\\envs\\keras_jax\\lib\\site-packages\\flax\\linen\\module.py:1226\u001b[0m, in \u001b[0;36mModule._call_wrapped_method\u001b[1;34m(self, fun, args, kwargs)\u001b[0m\n\u001b[0;32m   1224\u001b[0m \u001b[38;5;28;01mif\u001b[39;00m _use_named_call:\n\u001b[0;32m   1225\u001b[0m   \u001b[38;5;28;01mwith\u001b[39;00m jax\u001b[38;5;241m.\u001b[39mnamed_scope(_derive_profiling_name(\u001b[38;5;28mself\u001b[39m, fun)):\n\u001b[1;32m-> 1226\u001b[0m     y \u001b[38;5;241m=\u001b[39m run_fun(\u001b[38;5;28mself\u001b[39m, \u001b[38;5;241m*\u001b[39margs, \u001b[38;5;241m*\u001b[39m\u001b[38;5;241m*\u001b[39mkwargs)\n\u001b[0;32m   1227\u001b[0m \u001b[38;5;28;01melse\u001b[39;00m:\n\u001b[0;32m   1228\u001b[0m   y \u001b[38;5;241m=\u001b[39m run_fun(\u001b[38;5;28mself\u001b[39m, \u001b[38;5;241m*\u001b[39margs, \u001b[38;5;241m*\u001b[39m\u001b[38;5;241m*\u001b[39mkwargs)\n",
      "File \u001b[1;32m~\\Documents\\Data Science\\Projets\\Python\\projects\\Variational_Inference\\src\\data_modeling\\VAE\\__init__.py:73\u001b[0m, in \u001b[0;36mVAE.decode\u001b[1;34m(self, x, c)\u001b[0m\n\u001b[0;32m     70\u001b[0m x \u001b[38;5;241m=\u001b[39m x \u001b[38;5;241m+\u001b[39m \u001b[38;5;28mself\u001b[39m\u001b[38;5;241m.\u001b[39mclass_proj(c) \u001b[38;5;66;03m# injecte la sortie du vecteur de classes\u001b[39;00m\n\u001b[0;32m     71\u001b[0m                            \u001b[38;5;66;03m# dim c : (batch_size , n_classes)\u001b[39;00m\n\u001b[0;32m     72\u001b[0m                            \u001b[38;5;66;03m# dim self.class_proj(c) : (batch_size , encoder_dimensions[-1])\u001b[39;00m\n\u001b[1;32m---> 73\u001b[0m x \u001b[38;5;241m=\u001b[39m \u001b[38;5;28;43mself\u001b[39;49m\u001b[38;5;241;43m.\u001b[39;49m\u001b[43mdecoder\u001b[49m\u001b[43m(\u001b[49m\u001b[43mx\u001b[49m\u001b[43m)\u001b[49m \u001b[38;5;66;03m# envoie des données dans le décodeur, i.e. projection dans l'espace de départ\u001b[39;00m\n\u001b[0;32m     74\u001b[0m                     \u001b[38;5;66;03m# dim : (batch_size , encoder_dimensions[-1]) --> (batch_size , decoder_dimensions[-1])\u001b[39;00m\n\u001b[0;32m     75\u001b[0m \u001b[38;5;28;01mreturn\u001b[39;00m x\n",
      "File \u001b[1;32mC:\\ProgramData\\anaconda3\\envs\\keras_jax\\lib\\site-packages\\flax\\linen\\module.py:694\u001b[0m, in \u001b[0;36mwrap_method_once.<locals>.wrapped_module_method\u001b[1;34m(*args, **kwargs)\u001b[0m\n\u001b[0;32m    692\u001b[0m \u001b[38;5;28;01mif\u001b[39;00m args \u001b[38;5;129;01mand\u001b[39;00m \u001b[38;5;28misinstance\u001b[39m(args[\u001b[38;5;241m0\u001b[39m], Module):\n\u001b[0;32m    693\u001b[0m   \u001b[38;5;28mself\u001b[39m, args \u001b[38;5;241m=\u001b[39m args[\u001b[38;5;241m0\u001b[39m], args[\u001b[38;5;241m1\u001b[39m:]\n\u001b[1;32m--> 694\u001b[0m   \u001b[38;5;28;01mreturn\u001b[39;00m \u001b[38;5;28;43mself\u001b[39;49m\u001b[38;5;241;43m.\u001b[39;49m\u001b[43m_call_wrapped_method\u001b[49m\u001b[43m(\u001b[49m\u001b[43mfun\u001b[49m\u001b[43m,\u001b[49m\u001b[43m \u001b[49m\u001b[43margs\u001b[49m\u001b[43m,\u001b[49m\u001b[43m \u001b[49m\u001b[43mkwargs\u001b[49m\u001b[43m)\u001b[49m\n\u001b[0;32m    695\u001b[0m \u001b[38;5;28;01melse\u001b[39;00m:\n\u001b[0;32m    696\u001b[0m   \u001b[38;5;28;01mreturn\u001b[39;00m fun(\u001b[38;5;241m*\u001b[39margs, \u001b[38;5;241m*\u001b[39m\u001b[38;5;241m*\u001b[39mkwargs)\n",
      "File \u001b[1;32mC:\\ProgramData\\anaconda3\\envs\\keras_jax\\lib\\site-packages\\flax\\linen\\module.py:1226\u001b[0m, in \u001b[0;36mModule._call_wrapped_method\u001b[1;34m(self, fun, args, kwargs)\u001b[0m\n\u001b[0;32m   1224\u001b[0m \u001b[38;5;28;01mif\u001b[39;00m _use_named_call:\n\u001b[0;32m   1225\u001b[0m   \u001b[38;5;28;01mwith\u001b[39;00m jax\u001b[38;5;241m.\u001b[39mnamed_scope(_derive_profiling_name(\u001b[38;5;28mself\u001b[39m, fun)):\n\u001b[1;32m-> 1226\u001b[0m     y \u001b[38;5;241m=\u001b[39m run_fun(\u001b[38;5;28mself\u001b[39m, \u001b[38;5;241m*\u001b[39margs, \u001b[38;5;241m*\u001b[39m\u001b[38;5;241m*\u001b[39mkwargs)\n\u001b[0;32m   1227\u001b[0m \u001b[38;5;28;01melse\u001b[39;00m:\n\u001b[0;32m   1228\u001b[0m   y \u001b[38;5;241m=\u001b[39m run_fun(\u001b[38;5;28mself\u001b[39m, \u001b[38;5;241m*\u001b[39margs, \u001b[38;5;241m*\u001b[39m\u001b[38;5;241m*\u001b[39mkwargs)\n",
      "File \u001b[1;32m~\\Documents\\Data Science\\Projets\\Python\\projects\\Variational_Inference\\src\\data_modeling\\VAE\\__init__.py:26\u001b[0m, in \u001b[0;36mFeedForward.__call__\u001b[1;34m(self, x)\u001b[0m\n\u001b[0;32m     22\u001b[0m \u001b[38;5;129m@nn\u001b[39m\u001b[38;5;241m.\u001b[39mcompact\n\u001b[0;32m     23\u001b[0m \u001b[38;5;28;01mdef\u001b[39;00m \u001b[38;5;21m__call__\u001b[39m(\u001b[38;5;28mself\u001b[39m, x: ArrayLike) \u001b[38;5;241m-\u001b[39m\u001b[38;5;241m>\u001b[39m ArrayLike: \u001b[38;5;66;03m# -> : annotation du type qui sera retourné par la fonction\u001b[39;00m\n\u001b[0;32m     24\u001b[0m     \u001b[38;5;28;01mfor\u001b[39;00m i, d \u001b[38;5;129;01min\u001b[39;00m \u001b[38;5;28menumerate\u001b[39m(\u001b[38;5;28mself\u001b[39m\u001b[38;5;241m.\u001b[39mdimensions):\n\u001b[0;32m     25\u001b[0m         \u001b[38;5;66;03m# itère à travers chaque dimension (256, 128, 64)\u001b[39;00m\n\u001b[1;32m---> 26\u001b[0m         x \u001b[38;5;241m=\u001b[39m \u001b[43mnn\u001b[49m\u001b[38;5;241;43m.\u001b[39;49m\u001b[43mDense\u001b[49m\u001b[43m(\u001b[49m\u001b[43md\u001b[49m\u001b[43m)\u001b[49m\u001b[43m(\u001b[49m\u001b[43mx\u001b[49m\u001b[43m)\u001b[49m \u001b[38;5;66;03m# pour toutes les dimensions, effectue une transformation linéaire\u001b[39;00m\n\u001b[0;32m     27\u001b[0m         \u001b[38;5;28;01mif\u001b[39;00m i \u001b[38;5;241m!=\u001b[39m \u001b[38;5;28mlen\u001b[39m(\u001b[38;5;28mself\u001b[39m\u001b[38;5;241m.\u001b[39mdimensions) \u001b[38;5;241m-\u001b[39m \u001b[38;5;241m1\u001b[39m \u001b[38;5;129;01mor\u001b[39;00m \u001b[38;5;129;01mnot\u001b[39;00m \u001b[38;5;28mself\u001b[39m\u001b[38;5;241m.\u001b[39mdrop_last_activation:\n\u001b[0;32m     28\u001b[0m             \u001b[38;5;66;03m# pour toutes les dimensions sauf la dernière, effectue une transformation ReLU (remplace les transformations linéaires effectuées juste précédemment)\u001b[39;00m\n\u001b[0;32m     29\u001b[0m             \u001b[38;5;66;03m# par conséquent seule la dernière dimension peut subir une transformation renvoyant une valeur négative\u001b[39;00m\n\u001b[0;32m     30\u001b[0m             \u001b[38;5;66;03m# car ReLU retourne des valeurs nulles ou positives\u001b[39;00m\n\u001b[0;32m     31\u001b[0m             x \u001b[38;5;241m=\u001b[39m \u001b[38;5;28mself\u001b[39m\u001b[38;5;241m.\u001b[39mactivation_fn(x) \u001b[38;5;66;03m# i.e. une transformaton ReLU\u001b[39;00m\n",
      "File \u001b[1;32mC:\\ProgramData\\anaconda3\\envs\\keras_jax\\lib\\site-packages\\flax\\linen\\module.py:694\u001b[0m, in \u001b[0;36mwrap_method_once.<locals>.wrapped_module_method\u001b[1;34m(*args, **kwargs)\u001b[0m\n\u001b[0;32m    692\u001b[0m \u001b[38;5;28;01mif\u001b[39;00m args \u001b[38;5;129;01mand\u001b[39;00m \u001b[38;5;28misinstance\u001b[39m(args[\u001b[38;5;241m0\u001b[39m], Module):\n\u001b[0;32m    693\u001b[0m   \u001b[38;5;28mself\u001b[39m, args \u001b[38;5;241m=\u001b[39m args[\u001b[38;5;241m0\u001b[39m], args[\u001b[38;5;241m1\u001b[39m:]\n\u001b[1;32m--> 694\u001b[0m   \u001b[38;5;28;01mreturn\u001b[39;00m \u001b[38;5;28;43mself\u001b[39;49m\u001b[38;5;241;43m.\u001b[39;49m\u001b[43m_call_wrapped_method\u001b[49m\u001b[43m(\u001b[49m\u001b[43mfun\u001b[49m\u001b[43m,\u001b[49m\u001b[43m \u001b[49m\u001b[43margs\u001b[49m\u001b[43m,\u001b[49m\u001b[43m \u001b[49m\u001b[43mkwargs\u001b[49m\u001b[43m)\u001b[49m\n\u001b[0;32m    695\u001b[0m \u001b[38;5;28;01melse\u001b[39;00m:\n\u001b[0;32m    696\u001b[0m   \u001b[38;5;28;01mreturn\u001b[39;00m fun(\u001b[38;5;241m*\u001b[39margs, \u001b[38;5;241m*\u001b[39m\u001b[38;5;241m*\u001b[39mkwargs)\n",
      "File \u001b[1;32mC:\\ProgramData\\anaconda3\\envs\\keras_jax\\lib\\site-packages\\flax\\linen\\module.py:1226\u001b[0m, in \u001b[0;36mModule._call_wrapped_method\u001b[1;34m(self, fun, args, kwargs)\u001b[0m\n\u001b[0;32m   1224\u001b[0m \u001b[38;5;28;01mif\u001b[39;00m _use_named_call:\n\u001b[0;32m   1225\u001b[0m   \u001b[38;5;28;01mwith\u001b[39;00m jax\u001b[38;5;241m.\u001b[39mnamed_scope(_derive_profiling_name(\u001b[38;5;28mself\u001b[39m, fun)):\n\u001b[1;32m-> 1226\u001b[0m     y \u001b[38;5;241m=\u001b[39m run_fun(\u001b[38;5;28mself\u001b[39m, \u001b[38;5;241m*\u001b[39margs, \u001b[38;5;241m*\u001b[39m\u001b[38;5;241m*\u001b[39mkwargs)\n\u001b[0;32m   1227\u001b[0m \u001b[38;5;28;01melse\u001b[39;00m:\n\u001b[0;32m   1228\u001b[0m   y \u001b[38;5;241m=\u001b[39m run_fun(\u001b[38;5;28mself\u001b[39m, \u001b[38;5;241m*\u001b[39margs, \u001b[38;5;241m*\u001b[39m\u001b[38;5;241m*\u001b[39mkwargs)\n",
      "File \u001b[1;32mC:\\ProgramData\\anaconda3\\envs\\keras_jax\\lib\\site-packages\\flax\\linen\\linear.py:257\u001b[0m, in \u001b[0;36mDense.__call__\u001b[1;34m(self, inputs)\u001b[0m\n\u001b[0;32m    247\u001b[0m \u001b[38;5;129m@compact\u001b[39m\n\u001b[0;32m    248\u001b[0m \u001b[38;5;28;01mdef\u001b[39;00m \u001b[38;5;21m__call__\u001b[39m(\u001b[38;5;28mself\u001b[39m, inputs: Array) \u001b[38;5;241m-\u001b[39m\u001b[38;5;241m>\u001b[39m Array:\n\u001b[0;32m    249\u001b[0m \u001b[38;5;250m  \u001b[39m\u001b[38;5;124;03m\"\"\"Applies a linear transformation to the inputs along the last dimension.\u001b[39;00m\n\u001b[0;32m    250\u001b[0m \n\u001b[0;32m    251\u001b[0m \u001b[38;5;124;03m  Args:\u001b[39;00m\n\u001b[1;32m   (...)\u001b[0m\n\u001b[0;32m    255\u001b[0m \u001b[38;5;124;03m    The transformed input.\u001b[39;00m\n\u001b[0;32m    256\u001b[0m \u001b[38;5;124;03m  \"\"\"\u001b[39;00m\n\u001b[1;32m--> 257\u001b[0m   kernel \u001b[38;5;241m=\u001b[39m \u001b[38;5;28;43mself\u001b[39;49m\u001b[38;5;241;43m.\u001b[39;49m\u001b[43mparam\u001b[49m\u001b[43m(\u001b[49m\n\u001b[0;32m    258\u001b[0m \u001b[43m    \u001b[49m\u001b[38;5;124;43m'\u001b[39;49m\u001b[38;5;124;43mkernel\u001b[39;49m\u001b[38;5;124;43m'\u001b[39;49m\u001b[43m,\u001b[49m\n\u001b[0;32m    259\u001b[0m \u001b[43m    \u001b[49m\u001b[38;5;28;43mself\u001b[39;49m\u001b[38;5;241;43m.\u001b[39;49m\u001b[43mkernel_init\u001b[49m\u001b[43m,\u001b[49m\n\u001b[0;32m    260\u001b[0m \u001b[43m    \u001b[49m\u001b[43m(\u001b[49m\u001b[43mjnp\u001b[49m\u001b[38;5;241;43m.\u001b[39;49m\u001b[43mshape\u001b[49m\u001b[43m(\u001b[49m\u001b[43minputs\u001b[49m\u001b[43m)\u001b[49m\u001b[43m[\u001b[49m\u001b[38;5;241;43m-\u001b[39;49m\u001b[38;5;241;43m1\u001b[39;49m\u001b[43m]\u001b[49m\u001b[43m,\u001b[49m\u001b[43m \u001b[49m\u001b[38;5;28;43mself\u001b[39;49m\u001b[38;5;241;43m.\u001b[39;49m\u001b[43mfeatures\u001b[49m\u001b[43m)\u001b[49m\u001b[43m,\u001b[49m\n\u001b[0;32m    261\u001b[0m \u001b[43m    \u001b[49m\u001b[38;5;28;43mself\u001b[39;49m\u001b[38;5;241;43m.\u001b[39;49m\u001b[43mparam_dtype\u001b[49m\u001b[43m,\u001b[49m\n\u001b[0;32m    262\u001b[0m \u001b[43m  \u001b[49m\u001b[43m)\u001b[49m\n\u001b[0;32m    263\u001b[0m   \u001b[38;5;28;01mif\u001b[39;00m \u001b[38;5;28mself\u001b[39m\u001b[38;5;241m.\u001b[39muse_bias:\n\u001b[0;32m    264\u001b[0m     bias \u001b[38;5;241m=\u001b[39m \u001b[38;5;28mself\u001b[39m\u001b[38;5;241m.\u001b[39mparam(\n\u001b[0;32m    265\u001b[0m       \u001b[38;5;124m'\u001b[39m\u001b[38;5;124mbias\u001b[39m\u001b[38;5;124m'\u001b[39m, \u001b[38;5;28mself\u001b[39m\u001b[38;5;241m.\u001b[39mbias_init, (\u001b[38;5;28mself\u001b[39m\u001b[38;5;241m.\u001b[39mfeatures,), \u001b[38;5;28mself\u001b[39m\u001b[38;5;241m.\u001b[39mparam_dtype\n\u001b[0;32m    266\u001b[0m     )\n",
      "File \u001b[1;32mC:\\ProgramData\\anaconda3\\envs\\keras_jax\\lib\\site-packages\\flax\\linen\\module.py:1856\u001b[0m, in \u001b[0;36mModule.param\u001b[1;34m(self, name, init_fn, unbox, *init_args, **init_kwargs)\u001b[0m\n\u001b[0;32m   1854\u001b[0m   \u001b[38;5;28;01mraise\u001b[39;00m errors\u001b[38;5;241m.\u001b[39mNameInUseError(\u001b[38;5;124m'\u001b[39m\u001b[38;5;124mparam\u001b[39m\u001b[38;5;124m'\u001b[39m, name, \u001b[38;5;28mself\u001b[39m\u001b[38;5;241m.\u001b[39m\u001b[38;5;18m__class__\u001b[39m\u001b[38;5;241m.\u001b[39m\u001b[38;5;18m__name__\u001b[39m)\n\u001b[0;32m   1855\u001b[0m \u001b[38;5;28;01massert\u001b[39;00m \u001b[38;5;28mself\u001b[39m\u001b[38;5;241m.\u001b[39mscope \u001b[38;5;129;01mis\u001b[39;00m \u001b[38;5;129;01mnot\u001b[39;00m \u001b[38;5;28;01mNone\u001b[39;00m\n\u001b[1;32m-> 1856\u001b[0m v \u001b[38;5;241m=\u001b[39m \u001b[38;5;28mself\u001b[39m\u001b[38;5;241m.\u001b[39mscope\u001b[38;5;241m.\u001b[39mparam(name, init_fn, \u001b[38;5;241m*\u001b[39minit_args, unbox\u001b[38;5;241m=\u001b[39munbox, \u001b[38;5;241m*\u001b[39m\u001b[38;5;241m*\u001b[39minit_kwargs)\n\u001b[0;32m   1857\u001b[0m \u001b[38;5;28mself\u001b[39m\u001b[38;5;241m.\u001b[39m_state\u001b[38;5;241m.\u001b[39mchildren[name] \u001b[38;5;241m=\u001b[39m \u001b[38;5;124m'\u001b[39m\u001b[38;5;124mparams\u001b[39m\u001b[38;5;124m'\u001b[39m\n\u001b[0;32m   1858\u001b[0m \u001b[38;5;28;01mreturn\u001b[39;00m v\n",
      "File \u001b[1;32mC:\\ProgramData\\anaconda3\\envs\\keras_jax\\lib\\site-packages\\flax\\core\\scope.py:972\u001b[0m, in \u001b[0;36mScope.param\u001b[1;34m(self, name, init_fn, unbox, *init_args, **init_kwargs)\u001b[0m\n\u001b[0;32m    966\u001b[0m value \u001b[38;5;241m=\u001b[39m \u001b[38;5;28mself\u001b[39m\u001b[38;5;241m.\u001b[39mget_variable(\u001b[38;5;124m'\u001b[39m\u001b[38;5;124mparams\u001b[39m\u001b[38;5;124m'\u001b[39m, name)\n\u001b[0;32m    967\u001b[0m \u001b[38;5;66;03m# Validate that the shape of the init_fn output is the same as the shape\u001b[39;00m\n\u001b[0;32m    968\u001b[0m \u001b[38;5;66;03m# of the existing parameter. This is to make sure that the hparams set up\u001b[39;00m\n\u001b[0;32m    969\u001b[0m \u001b[38;5;66;03m# in a Flax Module match the shapes coming in during apply, and if not,\u001b[39;00m\n\u001b[0;32m    970\u001b[0m \u001b[38;5;66;03m# catch it with an error message.\u001b[39;00m\n\u001b[0;32m    971\u001b[0m \u001b[38;5;66;03m# NOTE: We could consider moving this to `self.`\u001b[39;00m\n\u001b[1;32m--> 972\u001b[0m abs_value \u001b[38;5;241m=\u001b[39m \u001b[43mjax\u001b[49m\u001b[38;5;241;43m.\u001b[39;49m\u001b[43meval_shape\u001b[49m\u001b[43m(\u001b[49m\n\u001b[0;32m    973\u001b[0m \u001b[43m  \u001b[49m\u001b[38;5;28;43;01mlambda\u001b[39;49;00m\u001b[43m:\u001b[49m\u001b[43m \u001b[49m\u001b[43minit_fn\u001b[49m\u001b[43m(\u001b[49m\u001b[43mrandom\u001b[49m\u001b[38;5;241;43m.\u001b[39;49m\u001b[43mkey\u001b[49m\u001b[43m(\u001b[49m\u001b[38;5;241;43m0\u001b[39;49m\u001b[43m)\u001b[49m\u001b[43m,\u001b[49m\u001b[43m \u001b[49m\u001b[38;5;241;43m*\u001b[39;49m\u001b[43minit_args\u001b[49m\u001b[43m,\u001b[49m\u001b[43m \u001b[49m\u001b[38;5;241;43m*\u001b[39;49m\u001b[38;5;241;43m*\u001b[39;49m\u001b[43minit_kwargs\u001b[49m\u001b[43m)\u001b[49m\n\u001b[0;32m    974\u001b[0m \u001b[43m\u001b[49m\u001b[43m)\u001b[49m\n\u001b[0;32m    975\u001b[0m abs_value_flat \u001b[38;5;241m=\u001b[39m jax\u001b[38;5;241m.\u001b[39mtree_util\u001b[38;5;241m.\u001b[39mtree_leaves(abs_value)\n\u001b[0;32m    976\u001b[0m value_flat \u001b[38;5;241m=\u001b[39m jax\u001b[38;5;241m.\u001b[39mtree_util\u001b[38;5;241m.\u001b[39mtree_leaves(value)\n",
      "    \u001b[1;31m[... skipping hidden 1 frame]\u001b[0m\n",
      "File \u001b[1;32mC:\\ProgramData\\anaconda3\\envs\\keras_jax\\lib\\site-packages\\jax\\_src\\api.py:2867\u001b[0m, in \u001b[0;36meval_shape\u001b[1;34m(fun, *args, **kwargs)\u001b[0m\n\u001b[0;32m   2865\u001b[0m \u001b[38;5;28;01mtry\u001b[39;00m: \u001b[38;5;28mhash\u001b[39m(fun)\n\u001b[0;32m   2866\u001b[0m \u001b[38;5;28;01mexcept\u001b[39;00m \u001b[38;5;167;01mTypeError\u001b[39;00m: fun \u001b[38;5;241m=\u001b[39m partial(fun)\n\u001b[1;32m-> 2867\u001b[0m \u001b[38;5;28;01mreturn\u001b[39;00m jit(fun)\u001b[38;5;241m.\u001b[39meval_shape(\u001b[38;5;241m*\u001b[39margs, \u001b[38;5;241m*\u001b[39m\u001b[38;5;241m*\u001b[39mkwargs)\n",
      "    \u001b[1;31m[... skipping hidden 1 frame]\u001b[0m\n",
      "File \u001b[1;32mC:\\ProgramData\\anaconda3\\envs\\keras_jax\\lib\\site-packages\\jax\\_src\\pjit.py:364\u001b[0m, in \u001b[0;36mpost_infer_params.<locals>.eval_shape\u001b[1;34m(*args, **kwargs)\u001b[0m\n\u001b[0;32m    362\u001b[0m \u001b[38;5;129m@api_boundary\u001b[39m\n\u001b[0;32m    363\u001b[0m \u001b[38;5;28;01mdef\u001b[39;00m \u001b[38;5;21meval_shape\u001b[39m(\u001b[38;5;241m*\u001b[39margs, \u001b[38;5;241m*\u001b[39m\u001b[38;5;241m*\u001b[39mkwargs):\n\u001b[1;32m--> 364\u001b[0m   _, _, params, _, out_tree, _, _, _, _, _ \u001b[38;5;241m=\u001b[39m infer_params_fn(\n\u001b[0;32m    365\u001b[0m       \u001b[38;5;241m*\u001b[39margs, \u001b[38;5;241m*\u001b[39m\u001b[38;5;241m*\u001b[39mkwargs, _in_layouts\u001b[38;5;241m=\u001b[39m\u001b[38;5;28;01mNone\u001b[39;00m, _out_layouts\u001b[38;5;241m=\u001b[39m\u001b[38;5;28;01mNone\u001b[39;00m)\n\u001b[0;32m    366\u001b[0m   out_s \u001b[38;5;241m=\u001b[39m [\u001b[38;5;28;01mNone\u001b[39;00m \u001b[38;5;28;01mif\u001b[39;00m is_unspecified(s) \u001b[38;5;28;01melse\u001b[39;00m \u001b[38;5;28mgetattr\u001b[39m(s, \u001b[38;5;124m'\u001b[39m\u001b[38;5;124m_original_sharding\u001b[39m\u001b[38;5;124m'\u001b[39m, s)\n\u001b[0;32m    367\u001b[0m            \u001b[38;5;28;01mfor\u001b[39;00m s \u001b[38;5;129;01min\u001b[39;00m params[\u001b[38;5;124m'\u001b[39m\u001b[38;5;124mout_shardings\u001b[39m\u001b[38;5;124m'\u001b[39m]]\n\u001b[0;32m    368\u001b[0m   out \u001b[38;5;241m=\u001b[39m [api\u001b[38;5;241m.\u001b[39mShapeDtypeStruct(x\u001b[38;5;241m.\u001b[39mshape, x\u001b[38;5;241m.\u001b[39mdtype, x\u001b[38;5;241m.\u001b[39mnamed_shape, sharding\u001b[38;5;241m=\u001b[39ms)\n\u001b[0;32m    369\u001b[0m          \u001b[38;5;28;01mfor\u001b[39;00m x, s \u001b[38;5;129;01min\u001b[39;00m \u001b[38;5;28mzip\u001b[39m(params[\u001b[38;5;124m'\u001b[39m\u001b[38;5;124mjaxpr\u001b[39m\u001b[38;5;124m'\u001b[39m]\u001b[38;5;241m.\u001b[39mout_avals, out_s)]\n",
      "File \u001b[1;32mC:\\ProgramData\\anaconda3\\envs\\keras_jax\\lib\\site-packages\\jax\\_src\\api.py:325\u001b[0m, in \u001b[0;36mjit.<locals>.infer_params\u001b[1;34m(*args, **kwargs)\u001b[0m\n\u001b[0;32m    315\u001b[0m out_layouts \u001b[38;5;241m=\u001b[39m kwargs\u001b[38;5;241m.\u001b[39mpop(\u001b[38;5;124m'\u001b[39m\u001b[38;5;124m_out_layouts\u001b[39m\u001b[38;5;124m'\u001b[39m, \u001b[38;5;28;01mNone\u001b[39;00m)\n\u001b[0;32m    316\u001b[0m pjit_info_args \u001b[38;5;241m=\u001b[39m pjit\u001b[38;5;241m.\u001b[39mPjitInfo(\n\u001b[0;32m    317\u001b[0m     fun\u001b[38;5;241m=\u001b[39mfun, fun_sourceinfo\u001b[38;5;241m=\u001b[39mfun_sourceinfo, fun_signature\u001b[38;5;241m=\u001b[39mfun_signature,\n\u001b[0;32m    318\u001b[0m     in_shardings\u001b[38;5;241m=\u001b[39min_shardings,\n\u001b[1;32m   (...)\u001b[0m\n\u001b[0;32m    323\u001b[0m     abstracted_axes\u001b[38;5;241m=\u001b[39mabstracted_axes, in_layouts\u001b[38;5;241m=\u001b[39min_layouts,\n\u001b[0;32m    324\u001b[0m     out_layouts\u001b[38;5;241m=\u001b[39mout_layouts)\n\u001b[1;32m--> 325\u001b[0m \u001b[38;5;28;01mreturn\u001b[39;00m pjit\u001b[38;5;241m.\u001b[39mcommon_infer_params(pjit_info_args, \u001b[38;5;241m*\u001b[39margs, \u001b[38;5;241m*\u001b[39m\u001b[38;5;241m*\u001b[39mkwargs)\n",
      "File \u001b[1;32mC:\\ProgramData\\anaconda3\\envs\\keras_jax\\lib\\site-packages\\jax\\_src\\pjit.py:495\u001b[0m, in \u001b[0;36mcommon_infer_params\u001b[1;34m(***failed resolving arguments***)\u001b[0m\n\u001b[0;32m    489\u001b[0m   in_type \u001b[38;5;241m=\u001b[39m in_avals \u001b[38;5;241m=\u001b[39m \u001b[38;5;28mtuple\u001b[39m(avals)\n\u001b[0;32m    491\u001b[0m canonicalized_in_shardings_flat, in_layouts_flat \u001b[38;5;241m=\u001b[39m _process_in_axis_resources(\n\u001b[0;32m    492\u001b[0m     hashable_pytree(in_shardings), hashable_pytree(in_layouts), in_avals,\n\u001b[0;32m    493\u001b[0m     in_tree, resource_env, dbg, device_or_backend_set, \u001b[38;5;28;01mTrue\u001b[39;00m \u001b[38;5;28;01mif\u001b[39;00m kwargs \u001b[38;5;28;01melse\u001b[39;00m \u001b[38;5;28;01mFalse\u001b[39;00m)\n\u001b[1;32m--> 495\u001b[0m jaxpr, consts, out_shardings, out_layouts_flat, attrs_tracked \u001b[38;5;241m=\u001b[39m \u001b[43m_pjit_jaxpr\u001b[49m\u001b[43m(\u001b[49m\n\u001b[0;32m    496\u001b[0m \u001b[43m    \u001b[49m\u001b[43mflat_fun\u001b[49m\u001b[43m,\u001b[49m\u001b[43m \u001b[49m\u001b[43mhashable_pytree\u001b[49m\u001b[43m(\u001b[49m\u001b[43mout_shardings\u001b[49m\u001b[43m)\u001b[49m\u001b[43m,\u001b[49m\u001b[43m \u001b[49m\u001b[43mhashable_pytree\u001b[49m\u001b[43m(\u001b[49m\u001b[43mout_layouts\u001b[49m\u001b[43m)\u001b[49m\u001b[43m,\u001b[49m\n\u001b[0;32m    497\u001b[0m \u001b[43m    \u001b[49m\u001b[43min_type\u001b[49m\u001b[43m,\u001b[49m\u001b[43m \u001b[49m\u001b[43mdbg\u001b[49m\u001b[43m,\u001b[49m\u001b[43m \u001b[49m\u001b[43mdevice_or_backend_set\u001b[49m\u001b[43m,\u001b[49m\u001b[43m \u001b[49m\u001b[43mHashableFunction\u001b[49m\u001b[43m(\u001b[49m\u001b[43mout_tree\u001b[49m\u001b[43m,\u001b[49m\u001b[43m \u001b[49m\u001b[43mclosure\u001b[49m\u001b[38;5;241;43m=\u001b[39;49m\u001b[43m(\u001b[49m\u001b[43m)\u001b[49m\u001b[43m)\u001b[49m\u001b[43m,\u001b[49m\n\u001b[0;32m    498\u001b[0m \u001b[43m    \u001b[49m\u001b[43mHashableFunction\u001b[49m\u001b[43m(\u001b[49m\u001b[43mres_paths\u001b[49m\u001b[43m,\u001b[49m\u001b[43m \u001b[49m\u001b[43mclosure\u001b[49m\u001b[38;5;241;43m=\u001b[39;49m\u001b[43m(\u001b[49m\u001b[43m)\u001b[49m\u001b[43m)\u001b[49m\u001b[43m,\u001b[49m\u001b[43m \u001b[49m\u001b[43minline\u001b[49m\u001b[43m)\u001b[49m\n\u001b[0;32m    500\u001b[0m \u001b[38;5;28;01massert\u001b[39;00m \u001b[38;5;28mlen\u001b[39m(explicit_args) \u001b[38;5;241m==\u001b[39m \u001b[38;5;28mlen\u001b[39m(canonicalized_in_shardings_flat) \u001b[38;5;241m==\u001b[39m \u001b[38;5;28mlen\u001b[39m(in_layouts_flat)\n\u001b[0;32m    502\u001b[0m \u001b[38;5;28;01mif\u001b[39;00m config\u001b[38;5;241m.\u001b[39mdynamic_shapes\u001b[38;5;241m.\u001b[39mvalue:\n",
      "File \u001b[1;32mC:\\ProgramData\\anaconda3\\envs\\keras_jax\\lib\\site-packages\\jax\\_src\\pjit.py:1150\u001b[0m, in \u001b[0;36m_pjit_jaxpr\u001b[1;34m(fun, out_shardings_thunk, out_layouts_thunk, in_type, debug_info, device_or_backend_set, out_tree, result_paths, inline)\u001b[0m\n\u001b[0;32m   1148\u001b[0m \u001b[38;5;28;01mdef\u001b[39;00m \u001b[38;5;21m_pjit_jaxpr\u001b[39m(fun, out_shardings_thunk, out_layouts_thunk, in_type, debug_info,\n\u001b[0;32m   1149\u001b[0m                 device_or_backend_set, out_tree, result_paths, inline):\n\u001b[1;32m-> 1150\u001b[0m   jaxpr, final_consts, out_type, attrs_tracked \u001b[38;5;241m=\u001b[39m \u001b[43m_create_pjit_jaxpr\u001b[49m\u001b[43m(\u001b[49m\n\u001b[0;32m   1151\u001b[0m \u001b[43m      \u001b[49m\u001b[43mfun\u001b[49m\u001b[43m,\u001b[49m\u001b[43m \u001b[49m\u001b[43min_type\u001b[49m\u001b[43m,\u001b[49m\u001b[43m \u001b[49m\u001b[43mdebug_info\u001b[49m\u001b[43m,\u001b[49m\u001b[43m \u001b[49m\u001b[43mresult_paths\u001b[49m\u001b[43m,\u001b[49m\u001b[43m \u001b[49m\u001b[43mIgnoreKey\u001b[49m\u001b[43m(\u001b[49m\u001b[43minline\u001b[49m\u001b[43m)\u001b[49m\u001b[43m)\u001b[49m\n\u001b[0;32m   1152\u001b[0m   canonicalized_out_shardings_flat, out_layouts_flat \u001b[38;5;241m=\u001b[39m _check_and_canonicalize_out_shardings(\n\u001b[0;32m   1153\u001b[0m       out_shardings_thunk, out_layouts_thunk, out_tree, \u001b[38;5;28mtuple\u001b[39m(out_type),\n\u001b[0;32m   1154\u001b[0m       jaxpr\u001b[38;5;241m.\u001b[39mjaxpr\u001b[38;5;241m.\u001b[39mdebug_info, device_or_backend_set)\n\u001b[0;32m   1155\u001b[0m   \u001b[38;5;28;01mreturn\u001b[39;00m jaxpr, final_consts, canonicalized_out_shardings_flat, out_layouts_flat, attrs_tracked\n",
      "File \u001b[1;32mC:\\ProgramData\\anaconda3\\envs\\keras_jax\\lib\\site-packages\\jax\\_src\\linear_util.py:350\u001b[0m, in \u001b[0;36mcache.<locals>.memoized_fun\u001b[1;34m(fun, *args)\u001b[0m\n\u001b[0;32m    348\u001b[0m   fun\u001b[38;5;241m.\u001b[39mpopulate_stores(stores)\n\u001b[0;32m    349\u001b[0m \u001b[38;5;28;01melse\u001b[39;00m:\n\u001b[1;32m--> 350\u001b[0m   ans \u001b[38;5;241m=\u001b[39m \u001b[43mcall\u001b[49m\u001b[43m(\u001b[49m\u001b[43mfun\u001b[49m\u001b[43m,\u001b[49m\u001b[43m \u001b[49m\u001b[38;5;241;43m*\u001b[39;49m\u001b[43margs\u001b[49m\u001b[43m)\u001b[49m\n\u001b[0;32m    351\u001b[0m   \u001b[38;5;28;01mif\u001b[39;00m explain \u001b[38;5;129;01mand\u001b[39;00m config\u001b[38;5;241m.\u001b[39mexplain_cache_misses\u001b[38;5;241m.\u001b[39mvalue:\n\u001b[0;32m    352\u001b[0m     explain(fun\u001b[38;5;241m.\u001b[39mf, cache \u001b[38;5;129;01mis\u001b[39;00m new_cache, cache, key, ans)\n",
      "File \u001b[1;32mC:\\ProgramData\\anaconda3\\envs\\keras_jax\\lib\\site-packages\\jax\\_src\\pjit.py:1089\u001b[0m, in \u001b[0;36m_create_pjit_jaxpr\u001b[1;34m(***failed resolving arguments***)\u001b[0m\n\u001b[0;32m   1087\u001b[0m     attrs_tracked \u001b[38;5;241m=\u001b[39m []\n\u001b[0;32m   1088\u001b[0m   \u001b[38;5;28;01melse\u001b[39;00m:\n\u001b[1;32m-> 1089\u001b[0m     jaxpr, global_out_avals, consts, attrs_tracked \u001b[38;5;241m=\u001b[39m \u001b[43mpe\u001b[49m\u001b[38;5;241;43m.\u001b[39;49m\u001b[43mtrace_to_jaxpr_dynamic\u001b[49m\u001b[43m(\u001b[49m\n\u001b[0;32m   1090\u001b[0m \u001b[43m        \u001b[49m\u001b[43mfun\u001b[49m\u001b[43m,\u001b[49m\u001b[43m \u001b[49m\u001b[43min_type\u001b[49m\u001b[43m,\u001b[49m\u001b[43m \u001b[49m\u001b[43mdebug_info\u001b[49m\u001b[38;5;241;43m=\u001b[39;49m\u001b[43mpe_debug\u001b[49m\u001b[43m)\u001b[49m\n\u001b[0;32m   1092\u001b[0m \u001b[38;5;66;03m# TODO(dougalm,mattjj): enable debug info with attrs_tracked\u001b[39;00m\n\u001b[0;32m   1093\u001b[0m \u001b[38;5;28;01mif\u001b[39;00m \u001b[38;5;129;01mnot\u001b[39;00m config\u001b[38;5;241m.\u001b[39mdynamic_shapes\u001b[38;5;241m.\u001b[39mvalue \u001b[38;5;129;01mand\u001b[39;00m \u001b[38;5;129;01mnot\u001b[39;00m attrs_tracked:\n",
      "File \u001b[1;32mC:\\ProgramData\\anaconda3\\envs\\keras_jax\\lib\\site-packages\\jax\\_src\\profiler.py:336\u001b[0m, in \u001b[0;36mannotate_function.<locals>.wrapper\u001b[1;34m(*args, **kwargs)\u001b[0m\n\u001b[0;32m    333\u001b[0m \u001b[38;5;129m@wraps\u001b[39m(func)\n\u001b[0;32m    334\u001b[0m \u001b[38;5;28;01mdef\u001b[39;00m \u001b[38;5;21mwrapper\u001b[39m(\u001b[38;5;241m*\u001b[39margs, \u001b[38;5;241m*\u001b[39m\u001b[38;5;241m*\u001b[39mkwargs):\n\u001b[0;32m    335\u001b[0m   \u001b[38;5;28;01mwith\u001b[39;00m TraceAnnotation(name, \u001b[38;5;241m*\u001b[39m\u001b[38;5;241m*\u001b[39mdecorator_kwargs):\n\u001b[1;32m--> 336\u001b[0m     \u001b[38;5;28;01mreturn\u001b[39;00m func(\u001b[38;5;241m*\u001b[39margs, \u001b[38;5;241m*\u001b[39m\u001b[38;5;241m*\u001b[39mkwargs)\n\u001b[0;32m    337\u001b[0m   \u001b[38;5;28;01mreturn\u001b[39;00m wrapper\n",
      "File \u001b[1;32mC:\\ProgramData\\anaconda3\\envs\\keras_jax\\lib\\site-packages\\jax\\_src\\interpreters\\partial_eval.py:2314\u001b[0m, in \u001b[0;36mtrace_to_jaxpr_dynamic\u001b[1;34m(fun, in_avals, debug_info, keep_inputs)\u001b[0m\n\u001b[0;32m   2312\u001b[0m \u001b[38;5;28;01mwith\u001b[39;00m core\u001b[38;5;241m.\u001b[39mnew_main(DynamicJaxprTrace, dynamic\u001b[38;5;241m=\u001b[39m\u001b[38;5;28;01mTrue\u001b[39;00m) \u001b[38;5;28;01mas\u001b[39;00m main:  \u001b[38;5;66;03m# type: ignore\u001b[39;00m\n\u001b[0;32m   2313\u001b[0m   main\u001b[38;5;241m.\u001b[39mjaxpr_stack \u001b[38;5;241m=\u001b[39m ()  \u001b[38;5;66;03m# type: ignore\u001b[39;00m\n\u001b[1;32m-> 2314\u001b[0m   jaxpr, out_avals, consts, attrs_tracked \u001b[38;5;241m=\u001b[39m \u001b[43mtrace_to_subjaxpr_dynamic\u001b[49m\u001b[43m(\u001b[49m\n\u001b[0;32m   2315\u001b[0m \u001b[43m    \u001b[49m\u001b[43mfun\u001b[49m\u001b[43m,\u001b[49m\u001b[43m \u001b[49m\u001b[43mmain\u001b[49m\u001b[43m,\u001b[49m\u001b[43m \u001b[49m\u001b[43min_avals\u001b[49m\u001b[43m,\u001b[49m\u001b[43m \u001b[49m\u001b[43mkeep_inputs\u001b[49m\u001b[38;5;241;43m=\u001b[39;49m\u001b[43mkeep_inputs\u001b[49m\u001b[43m,\u001b[49m\u001b[43m \u001b[49m\u001b[43mdebug_info\u001b[49m\u001b[38;5;241;43m=\u001b[39;49m\u001b[43mdebug_info\u001b[49m\u001b[43m)\u001b[49m\n\u001b[0;32m   2316\u001b[0m   \u001b[38;5;28;01mdel\u001b[39;00m main, fun\n\u001b[0;32m   2317\u001b[0m \u001b[38;5;28;01mreturn\u001b[39;00m jaxpr, out_avals, consts, attrs_tracked\n",
      "File \u001b[1;32mC:\\ProgramData\\anaconda3\\envs\\keras_jax\\lib\\site-packages\\jax\\_src\\interpreters\\partial_eval.py:2336\u001b[0m, in \u001b[0;36mtrace_to_subjaxpr_dynamic\u001b[1;34m(fun, main, in_avals, keep_inputs, debug_info)\u001b[0m\n\u001b[0;32m   2334\u001b[0m in_tracers \u001b[38;5;241m=\u001b[39m _input_type_to_tracers(trace\u001b[38;5;241m.\u001b[39mnew_arg, in_avals)\n\u001b[0;32m   2335\u001b[0m in_tracers_ \u001b[38;5;241m=\u001b[39m [t \u001b[38;5;28;01mfor\u001b[39;00m t, keep \u001b[38;5;129;01min\u001b[39;00m \u001b[38;5;28mzip\u001b[39m(in_tracers, keep_inputs) \u001b[38;5;28;01mif\u001b[39;00m keep]\n\u001b[1;32m-> 2336\u001b[0m ans \u001b[38;5;241m=\u001b[39m \u001b[43mfun\u001b[49m\u001b[38;5;241;43m.\u001b[39;49m\u001b[43mcall_wrapped\u001b[49m\u001b[43m(\u001b[49m\u001b[38;5;241;43m*\u001b[39;49m\u001b[43min_tracers_\u001b[49m\u001b[43m)\u001b[49m\n\u001b[0;32m   2337\u001b[0m out_tracers \u001b[38;5;241m=\u001b[39m \u001b[38;5;28mmap\u001b[39m(trace\u001b[38;5;241m.\u001b[39mfull_raise, ans)\n\u001b[0;32m   2338\u001b[0m jaxpr, consts, attrs_tracked \u001b[38;5;241m=\u001b[39m frame\u001b[38;5;241m.\u001b[39mto_jaxpr(out_tracers)\n",
      "File \u001b[1;32mC:\\ProgramData\\anaconda3\\envs\\keras_jax\\lib\\site-packages\\jax\\_src\\linear_util.py:192\u001b[0m, in \u001b[0;36mWrappedFun.call_wrapped\u001b[1;34m(self, *args, **kwargs)\u001b[0m\n\u001b[0;32m    189\u001b[0m gen \u001b[38;5;241m=\u001b[39m gen_static_args \u001b[38;5;241m=\u001b[39m out_store \u001b[38;5;241m=\u001b[39m \u001b[38;5;28;01mNone\u001b[39;00m\n\u001b[0;32m    191\u001b[0m \u001b[38;5;28;01mtry\u001b[39;00m:\n\u001b[1;32m--> 192\u001b[0m   ans \u001b[38;5;241m=\u001b[39m \u001b[38;5;28mself\u001b[39m\u001b[38;5;241m.\u001b[39mf(\u001b[38;5;241m*\u001b[39margs, \u001b[38;5;241m*\u001b[39m\u001b[38;5;241m*\u001b[39m\u001b[38;5;28mdict\u001b[39m(\u001b[38;5;28mself\u001b[39m\u001b[38;5;241m.\u001b[39mparams, \u001b[38;5;241m*\u001b[39m\u001b[38;5;241m*\u001b[39mkwargs))\n\u001b[0;32m    193\u001b[0m \u001b[38;5;28;01mexcept\u001b[39;00m:\n\u001b[0;32m    194\u001b[0m   \u001b[38;5;66;03m# Some transformations yield from inside context managers, so we have to\u001b[39;00m\n\u001b[0;32m    195\u001b[0m   \u001b[38;5;66;03m# interrupt them before reraising the exception. Otherwise they will only\u001b[39;00m\n\u001b[0;32m    196\u001b[0m   \u001b[38;5;66;03m# get garbage-collected at some later time, running their cleanup tasks\u001b[39;00m\n\u001b[0;32m    197\u001b[0m   \u001b[38;5;66;03m# only after this exception is handled, which can corrupt the global\u001b[39;00m\n\u001b[0;32m    198\u001b[0m   \u001b[38;5;66;03m# state.\u001b[39;00m\n\u001b[0;32m    199\u001b[0m   \u001b[38;5;28;01mwhile\u001b[39;00m stack:\n",
      "File \u001b[1;32mC:\\ProgramData\\anaconda3\\envs\\keras_jax\\lib\\site-packages\\flax\\core\\scope.py:973\u001b[0m, in \u001b[0;36mScope.param.<locals>.<lambda>\u001b[1;34m()\u001b[0m\n\u001b[0;32m    966\u001b[0m value \u001b[38;5;241m=\u001b[39m \u001b[38;5;28mself\u001b[39m\u001b[38;5;241m.\u001b[39mget_variable(\u001b[38;5;124m'\u001b[39m\u001b[38;5;124mparams\u001b[39m\u001b[38;5;124m'\u001b[39m, name)\n\u001b[0;32m    967\u001b[0m \u001b[38;5;66;03m# Validate that the shape of the init_fn output is the same as the shape\u001b[39;00m\n\u001b[0;32m    968\u001b[0m \u001b[38;5;66;03m# of the existing parameter. This is to make sure that the hparams set up\u001b[39;00m\n\u001b[0;32m    969\u001b[0m \u001b[38;5;66;03m# in a Flax Module match the shapes coming in during apply, and if not,\u001b[39;00m\n\u001b[0;32m    970\u001b[0m \u001b[38;5;66;03m# catch it with an error message.\u001b[39;00m\n\u001b[0;32m    971\u001b[0m \u001b[38;5;66;03m# NOTE: We could consider moving this to `self.`\u001b[39;00m\n\u001b[0;32m    972\u001b[0m abs_value \u001b[38;5;241m=\u001b[39m jax\u001b[38;5;241m.\u001b[39meval_shape(\n\u001b[1;32m--> 973\u001b[0m   \u001b[38;5;28;01mlambda\u001b[39;00m: init_fn(random\u001b[38;5;241m.\u001b[39mkey(\u001b[38;5;241m0\u001b[39m), \u001b[38;5;241m*\u001b[39minit_args, \u001b[38;5;241m*\u001b[39m\u001b[38;5;241m*\u001b[39minit_kwargs)\n\u001b[0;32m    974\u001b[0m )\n\u001b[0;32m    975\u001b[0m abs_value_flat \u001b[38;5;241m=\u001b[39m jax\u001b[38;5;241m.\u001b[39mtree_util\u001b[38;5;241m.\u001b[39mtree_leaves(abs_value)\n\u001b[0;32m    976\u001b[0m value_flat \u001b[38;5;241m=\u001b[39m jax\u001b[38;5;241m.\u001b[39mtree_util\u001b[38;5;241m.\u001b[39mtree_leaves(value)\n",
      "File \u001b[1;32mC:\\ProgramData\\anaconda3\\envs\\keras_jax\\lib\\site-packages\\jax\\_src\\nn\\initializers.py:334\u001b[0m, in \u001b[0;36mvariance_scaling.<locals>.init\u001b[1;34m(key, shape, dtype)\u001b[0m\n\u001b[0;32m    331\u001b[0m \u001b[38;5;28;01mif\u001b[39;00m jnp\u001b[38;5;241m.\u001b[39missubdtype(dtype, jnp\u001b[38;5;241m.\u001b[39mfloating):\n\u001b[0;32m    332\u001b[0m   \u001b[38;5;66;03m# constant is stddev of standard normal truncated to (-2, 2)\u001b[39;00m\n\u001b[0;32m    333\u001b[0m   stddev \u001b[38;5;241m=\u001b[39m jnp\u001b[38;5;241m.\u001b[39msqrt(variance) \u001b[38;5;241m/\u001b[39m jnp\u001b[38;5;241m.\u001b[39marray(\u001b[38;5;241m.87962566103423978\u001b[39m, dtype)\n\u001b[1;32m--> 334\u001b[0m   \u001b[38;5;28;01mreturn\u001b[39;00m \u001b[43mrandom\u001b[49m\u001b[38;5;241;43m.\u001b[39;49m\u001b[43mtruncated_normal\u001b[49m\u001b[43m(\u001b[49m\u001b[43mkey\u001b[49m\u001b[43m,\u001b[49m\u001b[43m \u001b[49m\u001b[38;5;241;43m-\u001b[39;49m\u001b[38;5;241;43m2\u001b[39;49m\u001b[43m,\u001b[49m\u001b[43m \u001b[49m\u001b[38;5;241;43m2\u001b[39;49m\u001b[43m,\u001b[49m\u001b[43m \u001b[49m\u001b[43mnamed_shape\u001b[49m\u001b[43m,\u001b[49m\u001b[43m \u001b[49m\u001b[43mdtype\u001b[49m\u001b[43m)\u001b[49m\u001b[43m \u001b[49m\u001b[38;5;241;43m*\u001b[39;49m\u001b[43m \u001b[49m\u001b[43mstddev\u001b[49m\n\u001b[0;32m    335\u001b[0m \u001b[38;5;28;01melse\u001b[39;00m:\n\u001b[0;32m    336\u001b[0m   \u001b[38;5;66;03m# constant is stddev of complex standard normal truncated to 2\u001b[39;00m\n\u001b[0;32m    337\u001b[0m   stddev \u001b[38;5;241m=\u001b[39m jnp\u001b[38;5;241m.\u001b[39msqrt(variance) \u001b[38;5;241m/\u001b[39m jnp\u001b[38;5;241m.\u001b[39marray(\u001b[38;5;241m.95311164380491208\u001b[39m, dtype)\n",
      "File \u001b[1;32mC:\\ProgramData\\anaconda3\\envs\\keras_jax\\lib\\site-packages\\jax\\_src\\numpy\\array_methods.py:736\u001b[0m, in \u001b[0;36m_forward_operator_to_aval.<locals>.op\u001b[1;34m(self, *args)\u001b[0m\n\u001b[0;32m    735\u001b[0m \u001b[38;5;28;01mdef\u001b[39;00m \u001b[38;5;21mop\u001b[39m(\u001b[38;5;28mself\u001b[39m, \u001b[38;5;241m*\u001b[39margs):\n\u001b[1;32m--> 736\u001b[0m   \u001b[38;5;28;01mreturn\u001b[39;00m \u001b[38;5;28;43mgetattr\u001b[39;49m\u001b[43m(\u001b[49m\u001b[38;5;28;43mself\u001b[39;49m\u001b[38;5;241;43m.\u001b[39;49m\u001b[43maval\u001b[49m\u001b[43m,\u001b[49m\u001b[43m \u001b[49m\u001b[38;5;124;43mf\u001b[39;49m\u001b[38;5;124;43m\"\u001b[39;49m\u001b[38;5;124;43m_\u001b[39;49m\u001b[38;5;132;43;01m{\u001b[39;49;00m\u001b[43mname\u001b[49m\u001b[38;5;132;43;01m}\u001b[39;49;00m\u001b[38;5;124;43m\"\u001b[39;49m\u001b[43m)\u001b[49m\u001b[43m(\u001b[49m\u001b[38;5;28;43mself\u001b[39;49m\u001b[43m,\u001b[49m\u001b[43m \u001b[49m\u001b[38;5;241;43m*\u001b[39;49m\u001b[43margs\u001b[49m\u001b[43m)\u001b[49m\n",
      "File \u001b[1;32mC:\\ProgramData\\anaconda3\\envs\\keras_jax\\lib\\site-packages\\jax\\_src\\numpy\\array_methods.py:264\u001b[0m, in \u001b[0;36m_defer_to_unrecognized_arg.<locals>.deferring_binary_op\u001b[1;34m(self, other)\u001b[0m\n\u001b[0;32m    262\u001b[0m args \u001b[38;5;241m=\u001b[39m (other, \u001b[38;5;28mself\u001b[39m) \u001b[38;5;28;01mif\u001b[39;00m swap \u001b[38;5;28;01melse\u001b[39;00m (\u001b[38;5;28mself\u001b[39m, other)\n\u001b[0;32m    263\u001b[0m \u001b[38;5;28;01mif\u001b[39;00m \u001b[38;5;28misinstance\u001b[39m(other, _accepted_binop_types):\n\u001b[1;32m--> 264\u001b[0m   \u001b[38;5;28;01mreturn\u001b[39;00m \u001b[43mbinary_op\u001b[49m\u001b[43m(\u001b[49m\u001b[38;5;241;43m*\u001b[39;49m\u001b[43margs\u001b[49m\u001b[43m)\u001b[49m\n\u001b[0;32m    265\u001b[0m \u001b[38;5;66;03m# Note: don't use isinstance here, because we don't want to raise for\u001b[39;00m\n\u001b[0;32m    266\u001b[0m \u001b[38;5;66;03m# subclasses, e.g. NamedTuple objects that may override operators.\u001b[39;00m\n\u001b[0;32m    267\u001b[0m \u001b[38;5;28;01mif\u001b[39;00m \u001b[38;5;28mtype\u001b[39m(other) \u001b[38;5;129;01min\u001b[39;00m _rejected_binop_types:\n",
      "    \u001b[1;31m[... skipping hidden 1 frame]\u001b[0m\n",
      "File \u001b[1;32mC:\\ProgramData\\anaconda3\\envs\\keras_jax\\lib\\site-packages\\jax\\_src\\pjit.py:248\u001b[0m, in \u001b[0;36m_cpp_pjit.<locals>.cache_miss\u001b[1;34m(*args, **kwargs)\u001b[0m\n\u001b[0;32m    246\u001b[0m \u001b[38;5;129m@api_boundary\u001b[39m\n\u001b[0;32m    247\u001b[0m \u001b[38;5;28;01mdef\u001b[39;00m \u001b[38;5;21mcache_miss\u001b[39m(\u001b[38;5;241m*\u001b[39margs, \u001b[38;5;241m*\u001b[39m\u001b[38;5;241m*\u001b[39mkwargs):\n\u001b[1;32m--> 248\u001b[0m   outs, out_flat, out_tree, args_flat, jaxpr, attrs_tracked \u001b[38;5;241m=\u001b[39m _python_pjit_helper(\n\u001b[0;32m    249\u001b[0m       fun, infer_params_fn, \u001b[38;5;241m*\u001b[39margs, \u001b[38;5;241m*\u001b[39m\u001b[38;5;241m*\u001b[39mkwargs)\n\u001b[0;32m    250\u001b[0m   executable \u001b[38;5;241m=\u001b[39m _read_most_recent_pjit_call_executable(jaxpr)\n\u001b[0;32m    251\u001b[0m   maybe_fastpath_data \u001b[38;5;241m=\u001b[39m _get_fastpath_data(\n\u001b[0;32m    252\u001b[0m       executable, out_tree, args_flat, out_flat, attrs_tracked)\n",
      "File \u001b[1;32mC:\\ProgramData\\anaconda3\\envs\\keras_jax\\lib\\site-packages\\jax\\_src\\pjit.py:143\u001b[0m, in \u001b[0;36m_python_pjit_helper\u001b[1;34m(fun, infer_params_fn, *args, **kwargs)\u001b[0m\n\u001b[0;32m    141\u001b[0m   args_flat \u001b[38;5;241m=\u001b[39m [\u001b[38;5;241m*\u001b[39minit_states, \u001b[38;5;241m*\u001b[39margs_flat]\n\u001b[0;32m    142\u001b[0m \u001b[38;5;28;01mtry\u001b[39;00m:\n\u001b[1;32m--> 143\u001b[0m   out_flat \u001b[38;5;241m=\u001b[39m pjit_p\u001b[38;5;241m.\u001b[39mbind(\u001b[38;5;241m*\u001b[39margs_flat, \u001b[38;5;241m*\u001b[39m\u001b[38;5;241m*\u001b[39mparams)\n\u001b[0;32m    144\u001b[0m \u001b[38;5;28;01mexcept\u001b[39;00m pxla\u001b[38;5;241m.\u001b[39mDeviceAssignmentMismatchError \u001b[38;5;28;01mas\u001b[39;00m e:\n\u001b[0;32m    145\u001b[0m   fails, \u001b[38;5;241m=\u001b[39m e\u001b[38;5;241m.\u001b[39margs\n",
      "File \u001b[1;32mC:\\ProgramData\\anaconda3\\envs\\keras_jax\\lib\\site-packages\\jax\\_src\\core.py:2723\u001b[0m, in \u001b[0;36mAxisPrimitive.bind\u001b[1;34m(self, *args, **params)\u001b[0m\n\u001b[0;32m   2721\u001b[0m \u001b[38;5;28;01mdef\u001b[39;00m \u001b[38;5;21mbind\u001b[39m(\u001b[38;5;28mself\u001b[39m, \u001b[38;5;241m*\u001b[39margs, \u001b[38;5;241m*\u001b[39m\u001b[38;5;241m*\u001b[39mparams):\n\u001b[0;32m   2722\u001b[0m   top_trace \u001b[38;5;241m=\u001b[39m find_top_trace(args)\n\u001b[1;32m-> 2723\u001b[0m   axis_main \u001b[38;5;241m=\u001b[39m \u001b[38;5;28mmax\u001b[39m((axis_frame(a)\u001b[38;5;241m.\u001b[39mmain_trace \u001b[38;5;28;01mfor\u001b[39;00m a \u001b[38;5;129;01min\u001b[39;00m \u001b[43mused_axis_names\u001b[49m\u001b[43m(\u001b[49m\u001b[38;5;28;43mself\u001b[39;49m\u001b[43m,\u001b[49m\u001b[43m \u001b[49m\u001b[43mparams\u001b[49m\u001b[43m)\u001b[49m),\n\u001b[0;32m   2724\u001b[0m                   default\u001b[38;5;241m=\u001b[39m\u001b[38;5;28;01mNone\u001b[39;00m, key\u001b[38;5;241m=\u001b[39m\u001b[38;5;28;01mlambda\u001b[39;00m t: \u001b[38;5;28mgetattr\u001b[39m(t, \u001b[38;5;124m'\u001b[39m\u001b[38;5;124mlevel\u001b[39m\u001b[38;5;124m'\u001b[39m, \u001b[38;5;241m-\u001b[39m\u001b[38;5;241m1\u001b[39m))\n\u001b[0;32m   2725\u001b[0m   top_trace \u001b[38;5;241m=\u001b[39m (top_trace \u001b[38;5;28;01mif\u001b[39;00m \u001b[38;5;129;01mnot\u001b[39;00m axis_main \u001b[38;5;129;01mor\u001b[39;00m axis_main\u001b[38;5;241m.\u001b[39mlevel \u001b[38;5;241m<\u001b[39m top_trace\u001b[38;5;241m.\u001b[39mlevel\n\u001b[0;32m   2726\u001b[0m                \u001b[38;5;28;01melse\u001b[39;00m axis_main\u001b[38;5;241m.\u001b[39mwith_cur_sublevel())\n\u001b[0;32m   2727\u001b[0m   \u001b[38;5;28;01mreturn\u001b[39;00m \u001b[38;5;28mself\u001b[39m\u001b[38;5;241m.\u001b[39mbind_with_trace(top_trace, args, params)\n",
      "File \u001b[1;32mC:\\ProgramData\\anaconda3\\envs\\keras_jax\\lib\\site-packages\\jax\\_src\\core.py:2627\u001b[0m, in \u001b[0;36mused_axis_names\u001b[1;34m(primitive, params)\u001b[0m\n\u001b[0;32m   2625\u001b[0m \u001b[38;5;28;01mdef\u001b[39;00m \u001b[38;5;21mused_axis_names\u001b[39m(primitive: Primitive, params: ParamDict) \u001b[38;5;241m-\u001b[39m\u001b[38;5;241m>\u001b[39m \u001b[38;5;28mset\u001b[39m[AxisName]:\n\u001b[0;32m   2626\u001b[0m   subst \u001b[38;5;241m=\u001b[39m NameGatheringSubst()\n\u001b[1;32m-> 2627\u001b[0m   \u001b[43msubst_axis_names\u001b[49m\u001b[43m(\u001b[49m\u001b[43mprimitive\u001b[49m\u001b[43m,\u001b[49m\u001b[43m \u001b[49m\u001b[43mparams\u001b[49m\u001b[43m,\u001b[49m\u001b[43m \u001b[49m\u001b[43msubst\u001b[49m\u001b[43m)\u001b[49m\n\u001b[0;32m   2628\u001b[0m   \u001b[38;5;28;01mreturn\u001b[39;00m subst\u001b[38;5;241m.\u001b[39maxis_names\n",
      "File \u001b[1;32mC:\\ProgramData\\anaconda3\\envs\\keras_jax\\lib\\site-packages\\jax\\_src\\core.py:2646\u001b[0m, in \u001b[0;36msubst_axis_names\u001b[1;34m(primitive, params, subst, traverse)\u001b[0m\n\u001b[0;32m   2644\u001b[0m new_params \u001b[38;5;241m=\u001b[39m \u001b[38;5;28mdict\u001b[39m(params)\n\u001b[0;32m   2645\u001b[0m \u001b[38;5;28;01mfor\u001b[39;00m name, jaxpr \u001b[38;5;129;01min\u001b[39;00m jaxpr_params:\n\u001b[1;32m-> 2646\u001b[0m   new_params[name] \u001b[38;5;241m=\u001b[39m \u001b[43msubst_axis_names_jaxpr\u001b[49m\u001b[43m(\u001b[49m\u001b[43mjaxpr\u001b[49m\u001b[43m,\u001b[49m\u001b[43m \u001b[49m\u001b[43mshadowed_subst\u001b[49m\u001b[43m)\u001b[49m\n\u001b[0;32m   2647\u001b[0m \u001b[38;5;28;01mreturn\u001b[39;00m new_params\n",
      "File \u001b[1;32mC:\\ProgramData\\anaconda3\\envs\\keras_jax\\lib\\site-packages\\jax\\_src\\core.py:2702\u001b[0m, in \u001b[0;36msubst_axis_names_jaxpr\u001b[1;34m(jaxpr, subst)\u001b[0m\n\u001b[0;32m   2700\u001b[0m \u001b[38;5;28;01mdef\u001b[39;00m \u001b[38;5;21msubst_axis_names_jaxpr\u001b[39m(jaxpr: Jaxpr \u001b[38;5;241m|\u001b[39m ClosedJaxpr, subst: AxisSubst):\n\u001b[0;32m   2701\u001b[0m   \u001b[38;5;28;01mif\u001b[39;00m \u001b[38;5;28misinstance\u001b[39m(subst, NameGatheringSubst):  \u001b[38;5;66;03m# This is a common case, so we optimize it!\u001b[39;00m\n\u001b[1;32m-> 2702\u001b[0m     subst\u001b[38;5;241m.\u001b[39maxis_names \u001b[38;5;241m|\u001b[39m\u001b[38;5;241m=\u001b[39m \u001b[43mused_axis_names_jaxpr\u001b[49m\u001b[43m(\u001b[49m\u001b[43mjaxpr\u001b[49m\u001b[43m)\u001b[49m\n\u001b[0;32m   2703\u001b[0m     \u001b[38;5;28;01mreturn\u001b[39;00m jaxpr\n\u001b[0;32m   2704\u001b[0m   \u001b[38;5;28;01mreturn\u001b[39;00m do_subst_axis_names_jaxpr(jaxpr, subst)\n",
      "\u001b[1;31mKeyboardInterrupt\u001b[0m: "
     ]
    }
   ],
   "source": [
    "class_of_ref = 0\n",
    "quantile = 0.99 # by default, should be fine-tuned with cross validation methods\n",
    "\n",
    "\n",
    "img = prepare_test_set(test_loader.dataset, class_of_ref, mixed_classes=True)\n",
    "    \n",
    "thresh = jnp.quantile(jnp.asarray(loss_distrib), quantile)\n",
    "anomalies = model.det_anom(key, params, img, n_classes=num_classes, tested_class=class_of_ref, threshold=thresh)"
   ]
  },
  {
   "cell_type": "code",
   "execution_count": 44,
   "id": "f4123e53",
   "metadata": {},
   "outputs": [
    {
     "name": "stdout",
     "output_type": "stream",
     "text": [
      "868\n",
      "9132\n"
     ]
    }
   ],
   "source": [
    "print(jnp.sum(anomalies[\"estAnomalie\"] == False))\n",
    "print(jnp.sum(jnp.asarray(anomalies[\"estAnomalie\"]) == True))"
   ]
  },
  {
   "cell_type": "code",
   "execution_count": 49,
   "id": "cc0f39ac",
   "metadata": {},
   "outputs": [],
   "source": [
    "y_true = get__y_true(test_loader.dataset, class_of_ref=class_of_ref)"
   ]
  },
  {
   "cell_type": "code",
   "execution_count": 50,
   "id": "e251ee85",
   "metadata": {},
   "outputs": [
    {
     "name": "stdout",
     "output_type": "stream",
     "text": [
      "              precision    recall  f1-score   support\n",
      "\n",
      "       False       0.88      0.78      0.83       980\n",
      "        True       0.98      0.99      0.98      9020\n",
      "\n",
      "    accuracy                           0.97     10000\n",
      "   macro avg       0.93      0.89      0.91     10000\n",
      "weighted avg       0.97      0.97      0.97     10000\n",
      "\n"
     ]
    }
   ],
   "source": [
    "# MNIST dataset\n",
    "\n",
    "print(classification_report(y_true, anomalies[\"estAnomalie\"]))"
   ]
  },
  {
   "cell_type": "code",
   "execution_count": 142,
   "id": "9fdc3e78",
   "metadata": {},
   "outputs": [
    {
     "name": "stdout",
     "output_type": "stream",
     "text": [
      "              precision    recall  f1-score   support\n",
      "\n",
      "       False       0.29      0.84      0.43      1000\n",
      "        True       0.98      0.77      0.86      9000\n",
      "\n",
      "    accuracy                           0.78     10000\n",
      "   macro avg       0.63      0.81      0.64     10000\n",
      "weighted avg       0.91      0.78      0.82     10000\n",
      "\n"
     ]
    }
   ],
   "source": [
    "# FashionMNIST dataset\n",
    "from sklearn.metrics import classification_report\n",
    "\n",
    "print(classification_report(y_true, anomalies[\"estAnomalie\"]))"
   ]
  },
  {
   "cell_type": "code",
   "execution_count": null,
   "id": "b4ce269d",
   "metadata": {},
   "outputs": [],
   "source": []
  },
  {
   "cell_type": "code",
   "execution_count": null,
   "id": "3ad2ebe7",
   "metadata": {},
   "outputs": [],
   "source": []
  }
 ],
 "metadata": {
  "kernelspec": {
   "display_name": "keras_jax",
   "language": "python",
   "name": "keras_jax"
  },
  "language_info": {
   "codemirror_mode": {
    "name": "ipython",
    "version": 3
   },
   "file_extension": ".py",
   "mimetype": "text/x-python",
   "name": "python",
   "nbconvert_exporter": "python",
   "pygments_lexer": "ipython3",
   "version": "3.10.13"
  }
 },
 "nbformat": 4,
 "nbformat_minor": 5
}
